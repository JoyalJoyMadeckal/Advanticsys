{
 "cells": [
  {
   "cell_type": "code",
   "execution_count": 1,
   "id": "9ea87a2b",
   "metadata": {},
   "outputs": [],
   "source": [
    "import pandas as pd\n",
    "import os\n",
    "import re\n",
    "from datetime import datetime\n",
    "import seaborn as sns\n",
    "import matplotlib.pyplot as plt\n",
    "import itertools\n",
    "import shutil"
   ]
  },
  {
   "cell_type": "code",
   "execution_count": 4,
   "id": "83610e9c",
   "metadata": {},
   "outputs": [],
   "source": [
    "def create_data_inverterwise(year):\n",
    "    initial_folder = f\"Data/Required Data Yearwise/{year} Required\"\n",
    "    file_names = os.listdir(initial_folder)\n",
    "    id_variables = [re.match(\"\\d+_index_\\d+_([^_]+)_([^.]+)\", file_name).groups() for file_name in file_names]\n",
    "\n",
    "    grouped_items = {}\n",
    "\n",
    "    for item in id_variables:\n",
    "        if item[0] in grouped_items.keys():\n",
    "            grouped_items[item[0]].append(item[1])\n",
    "        else:\n",
    "            grouped_items.update({item[0]:[item[1]]})\n",
    "    \n",
    "    dest_folder = \"Data/Required Data Inverterwise/\"\n",
    "\n",
    "    for folder in grouped_items.keys():\n",
    "        if not os.path.exists(f'{dest_folder}/{folder}'):\n",
    "            os.mkdir(f'{dest_folder}/{folder}')\n",
    "\n",
    "    for name in file_names:\n",
    "        folder = [folder for folder in grouped_items.keys() if folder in name]\n",
    "        fil_name = [fil_name for fil_name in grouped_items[folder[0]] if fil_name in name]\n",
    "        shutil.copy(f\"{initial_folder}/{name}\", f\"{dest_folder}/{folder[0]}/{year}_{fil_name[0]}.csv\")"
   ]
  },
  {
   "cell_type": "code",
   "execution_count": 5,
   "id": "e9793659",
   "metadata": {},
   "outputs": [],
   "source": [
    "# create_data_inverterwise('2019')\n",
    "# create_data_inverterwise('2020')\n",
    "# create_data_inverterwise('2021')"
   ]
  },
  {
   "cell_type": "code",
   "execution_count": 2,
   "id": "9a2a5175",
   "metadata": {},
   "outputs": [],
   "source": [
    "total_energy_inv01_2019 = pd.read_csv(\"Data/Required Data Inverterwise/inv01/2019_total_energy_data.csv\")\n",
    "total_energy_inv01_2020 = pd.read_csv(\"Data/Required Data Inverterwise/inv01/2020_total_energy_data.csv\")\n",
    "total_energy_inv01_2021 = pd.read_csv(\"Data/Required Data Inverterwise/inv01/2021_total_energy_data.csv\")"
   ]
  },
  {
   "cell_type": "code",
   "execution_count": 3,
   "id": "9ad94d36",
   "metadata": {},
   "outputs": [],
   "source": [
    "today_energy_inv01_2019 = pd.read_csv(\"Data/Required Data Inverterwise/inv01/2019_today_energy_data.csv\")\n",
    "today_energy_inv01_2020 = pd.read_csv(\"Data/Required Data Inverterwise/inv01/2020_today_energy_data.csv\")\n",
    "today_energy_inv01_2021 = pd.read_csv(\"Data/Required Data Inverterwise/inv01/2021_today_energy_data.csv\")"
   ]
  },
  {
   "cell_type": "code",
   "execution_count": 4,
   "id": "4730893e",
   "metadata": {},
   "outputs": [],
   "source": [
    "total_energy_inv01_2020.loc[:, 'Date'] = pd.to_datetime(total_energy_inv01_2020[['Date']].stack()).unstack()"
   ]
  },
  {
   "cell_type": "code",
   "execution_count": 36,
   "id": "3a1b0f43",
   "metadata": {},
   "outputs": [
    {
     "data": {
      "text/html": [
       "<div>\n",
       "<style scoped>\n",
       "    .dataframe tbody tr th:only-of-type {\n",
       "        vertical-align: middle;\n",
       "    }\n",
       "\n",
       "    .dataframe tbody tr th {\n",
       "        vertical-align: top;\n",
       "    }\n",
       "\n",
       "    .dataframe thead th {\n",
       "        text-align: right;\n",
       "    }\n",
       "</style>\n",
       "<table border=\"1\" class=\"dataframe\">\n",
       "  <thead>\n",
       "    <tr style=\"text-align: right;\">\n",
       "      <th></th>\n",
       "      <th>Date</th>\n",
       "      <th>Timestamp</th>\n",
       "      <th>Value</th>\n",
       "      <th>Signal</th>\n",
       "    </tr>\n",
       "  </thead>\n",
       "  <tbody>\n",
       "    <tr>\n",
       "      <th>min</th>\n",
       "      <td>2020-03-15 12:31:00</td>\n",
       "      <td>1584255660000</td>\n",
       "      <td>12332</td>\n",
       "      <td>Inv01_Total_Energy</td>\n",
       "    </tr>\n",
       "    <tr>\n",
       "      <th>max</th>\n",
       "      <td>2020-12-31 17:53:00</td>\n",
       "      <td>1609417380000</td>\n",
       "      <td>251707599</td>\n",
       "      <td>Inv01_Total_Energy</td>\n",
       "    </tr>\n",
       "  </tbody>\n",
       "</table>\n",
       "</div>"
      ],
      "text/plain": [
       "                   Date      Timestamp      Value              Signal\n",
       "min 2020-03-15 12:31:00  1584255660000      12332  Inv01_Total_Energy\n",
       "max 2020-12-31 17:53:00  1609417380000  251707599  Inv01_Total_Energy"
      ]
     },
     "execution_count": 36,
     "metadata": {},
     "output_type": "execute_result"
    }
   ],
   "source": [
    "total_energy_inv01_2020[total_energy_inv01_2020.Value > 0].agg(['min', 'max'])"
   ]
  },
  {
   "cell_type": "code",
   "execution_count": 65,
   "id": "973df78d",
   "metadata": {},
   "outputs": [
    {
     "data": {
      "text/plain": [
       "<AxesSubplot:xlabel='Date', ylabel='Value'>"
      ]
     },
     "execution_count": 65,
     "metadata": {},
     "output_type": "execute_result"
    },
    {
     "data": {
      "image/png": "[encoded data removed]",
      "text/plain": [
       "<Figure size 720x504 with 1 Axes>"
      ]
     },
     "metadata": {
      "needs_background": "light"
     },
     "output_type": "display_data"
    }
   ],
   "source": [
    "plt.figure(figsize=(10,7))\n",
    "condition = ~(total_energy_inv01_2020.Value.isin(list(total_energy_inv01_2020.sort_values('Value', ascending=False).head(11)['Value'])))\n",
    "sns.lineplot(x = 'Date', y = 'Value',data = total_energy_inv01_2020[(total_energy_inv01_2020.Value != 0) & condition])"
   ]
  },
  {
   "cell_type": "code",
   "execution_count": 66,
   "id": "235ae77b",
   "metadata": {},
   "outputs": [
    {
     "data": {
      "text/plain": [
       "<AxesSubplot:xlabel='Date', ylabel='Value'>"
      ]
     },
     "execution_count": 66,
     "metadata": {},
     "output_type": "execute_result"
    },
    {
     "data": {
      "image/png": "[encoded data removed]",
      "text/plain": [
       "<Figure size 720x504 with 1 Axes>"
      ]
     },
     "metadata": {
      "needs_background": "light"
     },
     "output_type": "display_data"
    }
   ],
   "source": [
    "plt.figure(figsize=(10,7))\n",
    "condition = ~(total_energy_inv01_2020.Value.isin(list(total_energy_inv01_2020.sort_values('Value', ascending=False).head(11)['Value'])))\n",
    "sns.lineplot(x = 'Date', y = 'Value',data = total_energy_inv01_2020[(total_energy_inv01_2020.Value != 0) & condition])"
   ]
  },
  {
   "cell_type": "code",
   "execution_count": 7,
   "id": "98f61d06",
   "metadata": {},
   "outputs": [
    {
     "data": {
      "text/html": [
       "<div>\n",
       "<style scoped>\n",
       "    .dataframe tbody tr th:only-of-type {\n",
       "        vertical-align: middle;\n",
       "    }\n",
       "\n",
       "    .dataframe tbody tr th {\n",
       "        vertical-align: top;\n",
       "    }\n",
       "\n",
       "    .dataframe thead th {\n",
       "        text-align: right;\n",
       "    }\n",
       "</style>\n",
       "<table border=\"1\" class=\"dataframe\">\n",
       "  <thead>\n",
       "    <tr style=\"text-align: right;\">\n",
       "      <th></th>\n",
       "      <th>Date</th>\n",
       "      <th>Timestamp</th>\n",
       "      <th>Value</th>\n",
       "      <th>Signal</th>\n",
       "    </tr>\n",
       "  </thead>\n",
       "  <tbody>\n",
       "    <tr>\n",
       "      <th>96995</th>\n",
       "      <td>2020-05-26 09:23:00</td>\n",
       "      <td>1.590470e+12</td>\n",
       "      <td>251707599</td>\n",
       "      <td>Inv01_Total_Energy</td>\n",
       "    </tr>\n",
       "    <tr>\n",
       "      <th>123487</th>\n",
       "      <td>2020-06-30 13:16:00</td>\n",
       "      <td>1.593500e+12</td>\n",
       "      <td>16840953</td>\n",
       "      <td>Inv01_Total_Energy</td>\n",
       "    </tr>\n",
       "    <tr>\n",
       "      <th>234041</th>\n",
       "      <td>2020-12-09 06:22:00</td>\n",
       "      <td>1.607480e+12</td>\n",
       "      <td>6316688</td>\n",
       "      <td>Inv01_Total_Energy</td>\n",
       "    </tr>\n",
       "    <tr>\n",
       "      <th>157797</th>\n",
       "      <td>2020-08-23 10:16:00</td>\n",
       "      <td>1.598160e+12</td>\n",
       "      <td>790288</td>\n",
       "      <td>Inv01_Total_Energy</td>\n",
       "    </tr>\n",
       "    <tr>\n",
       "      <th>180971</th>\n",
       "      <td>2020-09-27 08:28:00</td>\n",
       "      <td>1.601180e+12</td>\n",
       "      <td>790288</td>\n",
       "      <td>Inv01_Total_Energy</td>\n",
       "    </tr>\n",
       "    <tr>\n",
       "      <th>230157</th>\n",
       "      <td>2020-12-03 10:16:00</td>\n",
       "      <td>1.606970e+12</td>\n",
       "      <td>790288</td>\n",
       "      <td>Inv01_Total_Energy</td>\n",
       "    </tr>\n",
       "    <tr>\n",
       "      <th>249056</th>\n",
       "      <td>2020-12-27 21:10:00</td>\n",
       "      <td>1.609080e+12</td>\n",
       "      <td>790288</td>\n",
       "      <td>Inv01_Total_Energy</td>\n",
       "    </tr>\n",
       "    <tr>\n",
       "      <th>237957</th>\n",
       "      <td>2020-12-13 18:56:00</td>\n",
       "      <td>1.607870e+12</td>\n",
       "      <td>525072</td>\n",
       "      <td>Inv01_Total_Energy</td>\n",
       "    </tr>\n",
       "    <tr>\n",
       "      <th>207906</th>\n",
       "      <td>2020-11-02 13:40:00</td>\n",
       "      <td>1.604300e+12</td>\n",
       "      <td>395016</td>\n",
       "      <td>Inv01_Total_Energy</td>\n",
       "    </tr>\n",
       "    <tr>\n",
       "      <th>211506</th>\n",
       "      <td>2020-11-07 12:15:00</td>\n",
       "      <td>1.604730e+12</td>\n",
       "      <td>395016</td>\n",
       "      <td>Inv01_Total_Energy</td>\n",
       "    </tr>\n",
       "    <tr>\n",
       "      <th>220806</th>\n",
       "      <td>2020-11-20 08:20:00</td>\n",
       "      <td>1.605840e+12</td>\n",
       "      <td>395016</td>\n",
       "      <td>Inv01_Total_Energy</td>\n",
       "    </tr>\n",
       "    <tr>\n",
       "      <th>251939</th>\n",
       "      <td>2020-12-31 17:35:00</td>\n",
       "      <td>1.609420e+12</td>\n",
       "      <td>69998</td>\n",
       "      <td>Inv01_Total_Energy</td>\n",
       "    </tr>\n",
       "    <tr>\n",
       "      <th>251932</th>\n",
       "      <td>2020-12-31 17:28:00</td>\n",
       "      <td>1.609420e+12</td>\n",
       "      <td>69998</td>\n",
       "      <td>Inv01_Total_Energy</td>\n",
       "    </tr>\n",
       "    <tr>\n",
       "      <th>251933</th>\n",
       "      <td>2020-12-31 17:29:00</td>\n",
       "      <td>1.609420e+12</td>\n",
       "      <td>69998</td>\n",
       "      <td>Inv01_Total_Energy</td>\n",
       "    </tr>\n",
       "    <tr>\n",
       "      <th>251934</th>\n",
       "      <td>2020-12-31 17:30:00</td>\n",
       "      <td>1.609420e+12</td>\n",
       "      <td>69998</td>\n",
       "      <td>Inv01_Total_Energy</td>\n",
       "    </tr>\n",
       "    <tr>\n",
       "      <th>251935</th>\n",
       "      <td>2020-12-31 17:31:00</td>\n",
       "      <td>1.609420e+12</td>\n",
       "      <td>69998</td>\n",
       "      <td>Inv01_Total_Energy</td>\n",
       "    </tr>\n",
       "    <tr>\n",
       "      <th>251936</th>\n",
       "      <td>2020-12-31 17:32:00</td>\n",
       "      <td>1.609420e+12</td>\n",
       "      <td>69998</td>\n",
       "      <td>Inv01_Total_Energy</td>\n",
       "    </tr>\n",
       "    <tr>\n",
       "      <th>251937</th>\n",
       "      <td>2020-12-31 17:33:00</td>\n",
       "      <td>1.609420e+12</td>\n",
       "      <td>69998</td>\n",
       "      <td>Inv01_Total_Energy</td>\n",
       "    </tr>\n",
       "    <tr>\n",
       "      <th>251938</th>\n",
       "      <td>2020-12-31 17:34:00</td>\n",
       "      <td>1.609420e+12</td>\n",
       "      <td>69998</td>\n",
       "      <td>Inv01_Total_Energy</td>\n",
       "    </tr>\n",
       "    <tr>\n",
       "      <th>251957</th>\n",
       "      <td>2020-12-31 17:53:00</td>\n",
       "      <td>1.609420e+12</td>\n",
       "      <td>69998</td>\n",
       "      <td>Inv01_Total_Energy</td>\n",
       "    </tr>\n",
       "  </tbody>\n",
       "</table>\n",
       "</div>"
      ],
      "text/plain": [
       "                      Date     Timestamp      Value              Signal\n",
       "96995  2020-05-26 09:23:00  1.590470e+12  251707599  Inv01_Total_Energy\n",
       "123487 2020-06-30 13:16:00  1.593500e+12   16840953  Inv01_Total_Energy\n",
       "234041 2020-12-09 06:22:00  1.607480e+12    6316688  Inv01_Total_Energy\n",
       "157797 2020-08-23 10:16:00  1.598160e+12     790288  Inv01_Total_Energy\n",
       "180971 2020-09-27 08:28:00  1.601180e+12     790288  Inv01_Total_Energy\n",
       "230157 2020-12-03 10:16:00  1.606970e+12     790288  Inv01_Total_Energy\n",
       "249056 2020-12-27 21:10:00  1.609080e+12     790288  Inv01_Total_Energy\n",
       "237957 2020-12-13 18:56:00  1.607870e+12     525072  Inv01_Total_Energy\n",
       "207906 2020-11-02 13:40:00  1.604300e+12     395016  Inv01_Total_Energy\n",
       "211506 2020-11-07 12:15:00  1.604730e+12     395016  Inv01_Total_Energy\n",
       "220806 2020-11-20 08:20:00  1.605840e+12     395016  Inv01_Total_Energy\n",
       "251939 2020-12-31 17:35:00  1.609420e+12      69998  Inv01_Total_Energy\n",
       "251932 2020-12-31 17:28:00  1.609420e+12      69998  Inv01_Total_Energy\n",
       "251933 2020-12-31 17:29:00  1.609420e+12      69998  Inv01_Total_Energy\n",
       "251934 2020-12-31 17:30:00  1.609420e+12      69998  Inv01_Total_Energy\n",
       "251935 2020-12-31 17:31:00  1.609420e+12      69998  Inv01_Total_Energy\n",
       "251936 2020-12-31 17:32:00  1.609420e+12      69998  Inv01_Total_Energy\n",
       "251937 2020-12-31 17:33:00  1.609420e+12      69998  Inv01_Total_Energy\n",
       "251938 2020-12-31 17:34:00  1.609420e+12      69998  Inv01_Total_Energy\n",
       "251957 2020-12-31 17:53:00  1.609420e+12      69998  Inv01_Total_Energy"
      ]
     },
     "execution_count": 7,
     "metadata": {},
     "output_type": "execute_result"
    }
   ],
   "source": [
    "total_energy_inv01_2020.sort_values('Value', ascending=False).head(20)"
   ]
  },
  {
   "cell_type": "code",
   "execution_count": 67,
   "id": "f454b76b",
   "metadata": {},
   "outputs": [
    {
     "data": {
      "text/html": [
       "<div>\n",
       "<style scoped>\n",
       "    .dataframe tbody tr th:only-of-type {\n",
       "        vertical-align: middle;\n",
       "    }\n",
       "\n",
       "    .dataframe tbody tr th {\n",
       "        vertical-align: top;\n",
       "    }\n",
       "\n",
       "    .dataframe thead th {\n",
       "        text-align: right;\n",
       "    }\n",
       "</style>\n",
       "<table border=\"1\" class=\"dataframe\">\n",
       "  <thead>\n",
       "    <tr style=\"text-align: right;\">\n",
       "      <th></th>\n",
       "      <th>Date</th>\n",
       "      <th>Timestamp</th>\n",
       "      <th>Value</th>\n",
       "      <th>Signal</th>\n",
       "      <th>Hour</th>\n",
       "    </tr>\n",
       "  </thead>\n",
       "  <tbody>\n",
       "    <tr>\n",
       "      <th>96801</th>\n",
       "      <td>2020-05-26 05:54:00</td>\n",
       "      <td>1.590450e+12</td>\n",
       "      <td>0</td>\n",
       "      <td>Inv01_Total_Energy</td>\n",
       "      <td>5</td>\n",
       "    </tr>\n",
       "    <tr>\n",
       "      <th>96802</th>\n",
       "      <td>2020-05-26 05:57:00</td>\n",
       "      <td>1.590450e+12</td>\n",
       "      <td>29627</td>\n",
       "      <td>Inv01_Total_Energy</td>\n",
       "      <td>5</td>\n",
       "    </tr>\n",
       "    <tr>\n",
       "      <th>96803</th>\n",
       "      <td>2020-05-26 05:58:00</td>\n",
       "      <td>1.590450e+12</td>\n",
       "      <td>29627</td>\n",
       "      <td>Inv01_Total_Energy</td>\n",
       "      <td>5</td>\n",
       "    </tr>\n",
       "    <tr>\n",
       "      <th>96804</th>\n",
       "      <td>2020-05-26 05:59:00</td>\n",
       "      <td>1.590450e+12</td>\n",
       "      <td>29627</td>\n",
       "      <td>Inv01_Total_Energy</td>\n",
       "      <td>5</td>\n",
       "    </tr>\n",
       "    <tr>\n",
       "      <th>96805</th>\n",
       "      <td>2020-05-26 06:00:00</td>\n",
       "      <td>1.590450e+12</td>\n",
       "      <td>29627</td>\n",
       "      <td>Inv01_Total_Energy</td>\n",
       "      <td>6</td>\n",
       "    </tr>\n",
       "    <tr>\n",
       "      <th>...</th>\n",
       "      <td>...</td>\n",
       "      <td>...</td>\n",
       "      <td>...</td>\n",
       "      <td>...</td>\n",
       "      <td>...</td>\n",
       "    </tr>\n",
       "    <tr>\n",
       "      <th>251953</th>\n",
       "      <td>2020-12-31 17:49:00</td>\n",
       "      <td>1.609420e+12</td>\n",
       "      <td>69998</td>\n",
       "      <td>Inv01_Total_Energy</td>\n",
       "      <td>17</td>\n",
       "    </tr>\n",
       "    <tr>\n",
       "      <th>251954</th>\n",
       "      <td>2020-12-31 17:50:00</td>\n",
       "      <td>1.609420e+12</td>\n",
       "      <td>69998</td>\n",
       "      <td>Inv01_Total_Energy</td>\n",
       "      <td>17</td>\n",
       "    </tr>\n",
       "    <tr>\n",
       "      <th>251955</th>\n",
       "      <td>2020-12-31 17:51:00</td>\n",
       "      <td>1.609420e+12</td>\n",
       "      <td>69998</td>\n",
       "      <td>Inv01_Total_Energy</td>\n",
       "      <td>17</td>\n",
       "    </tr>\n",
       "    <tr>\n",
       "      <th>251956</th>\n",
       "      <td>2020-12-31 17:52:00</td>\n",
       "      <td>1.609420e+12</td>\n",
       "      <td>69998</td>\n",
       "      <td>Inv01_Total_Energy</td>\n",
       "      <td>17</td>\n",
       "    </tr>\n",
       "    <tr>\n",
       "      <th>251957</th>\n",
       "      <td>2020-12-31 17:53:00</td>\n",
       "      <td>1.609420e+12</td>\n",
       "      <td>69998</td>\n",
       "      <td>Inv01_Total_Energy</td>\n",
       "      <td>17</td>\n",
       "    </tr>\n",
       "  </tbody>\n",
       "</table>\n",
       "<p>155157 rows × 5 columns</p>\n",
       "</div>"
      ],
      "text/plain": [
       "                      Date     Timestamp  Value              Signal  Hour\n",
       "96801  2020-05-26 05:54:00  1.590450e+12      0  Inv01_Total_Energy     5\n",
       "96802  2020-05-26 05:57:00  1.590450e+12  29627  Inv01_Total_Energy     5\n",
       "96803  2020-05-26 05:58:00  1.590450e+12  29627  Inv01_Total_Energy     5\n",
       "96804  2020-05-26 05:59:00  1.590450e+12  29627  Inv01_Total_Energy     5\n",
       "96805  2020-05-26 06:00:00  1.590450e+12  29627  Inv01_Total_Energy     6\n",
       "...                    ...           ...    ...                 ...   ...\n",
       "251953 2020-12-31 17:49:00  1.609420e+12  69998  Inv01_Total_Energy    17\n",
       "251954 2020-12-31 17:50:00  1.609420e+12  69998  Inv01_Total_Energy    17\n",
       "251955 2020-12-31 17:51:00  1.609420e+12  69998  Inv01_Total_Energy    17\n",
       "251956 2020-12-31 17:52:00  1.609420e+12  69998  Inv01_Total_Energy    17\n",
       "251957 2020-12-31 17:53:00  1.609420e+12  69998  Inv01_Total_Energy    17\n",
       "\n",
       "[155157 rows x 5 columns]"
      ]
     },
     "execution_count": 67,
     "metadata": {},
     "output_type": "execute_result"
    }
   ],
   "source": [
    "total_energy_inv01_2020[(total_energy_inv01_2020.Date >= '26-05-2020') & (total_energy_inv01_2020.Hour >= '26-05-2020')]"
   ]
  },
  {
   "cell_type": "code",
   "execution_count": 65,
   "id": "1c10ff9f",
   "metadata": {},
   "outputs": [
    {
     "data": {
      "text/plain": [
       "<AxesSubplot:xlabel='Date', ylabel='Value'>"
      ]
     },
     "execution_count": 65,
     "metadata": {},
     "output_type": "execute_result"
    },
    {
     "data": {
      "image/png": "[encoded data removed]",
      "text/plain": [
       "<Figure size 720x504 with 1 Axes>"
      ]
     },
     "metadata": {
      "needs_background": "light"
     },
     "output_type": "display_data"
    }
   ],
   "source": [
    "plt.figure(figsize=(10,7))\n",
    "condition = ~(total_energy_inv01_2020.Value.isin(list(total_energy_inv01_2020.sort_values('Value', ascending=False).head(11)['Value'])))\n",
    "sns.lineplot(x = 'Date', y = 'Value',data = total_energy_inv01_2020[(total_energy_inv01_2020.Value != 0) & condition])"
   ]
  },
  {
   "cell_type": "code",
   "execution_count": 9,
   "id": "a04bce74",
   "metadata": {},
   "outputs": [
    {
     "name": "stdout",
     "output_type": "stream",
     "text": [
      "Pandas(Index=96996, Date=Timestamp('2020-05-26 09:24:00'), Timestamp=1590470000000.0, Value=29669, Signal='Inv01_Total_Energy') 251707599\n",
      "Pandas(Index=123488, Date=Timestamp('2020-06-30 13:17:00'), Timestamp=1593500000000.0, Value=37035, Signal='Inv01_Total_Energy') 16840953\n",
      "Pandas(Index=157798, Date=Timestamp('2020-08-23 10:17:00'), Timestamp=1598160000000.0, Value=45540, Signal='Inv01_Total_Energy') 790288\n",
      "Pandas(Index=180972, Date=Timestamp('2020-09-27 08:29:00'), Timestamp=1601180000000.0, Value=51667, Signal='Inv01_Total_Energy') 790288\n",
      "Pandas(Index=207907, Date=Timestamp('2020-11-02 13:41:00'), Timestamp=1604300000000.0, Value=57233, Signal='Inv01_Total_Energy') 395016\n",
      "Pandas(Index=211507, Date=Timestamp('2020-11-07 12:16:00'), Timestamp=1604730000000.0, Value=58265, Signal='Inv01_Total_Energy') 395016\n",
      "Pandas(Index=220807, Date=Timestamp('2020-11-20 08:21:00'), Timestamp=1605840000000.0, Value=60932, Signal='Inv01_Total_Energy') 395016\n",
      "Pandas(Index=228014, Date=Timestamp('2020-11-30 10:06:00'), Timestamp=1606710000000.0, Value=62951, Signal='Inv01_Total_Energy') 65510\n",
      "Pandas(Index=230158, Date=Timestamp('2020-12-03 10:17:00'), Timestamp=1606970000000.0, Value=63609, Signal='Inv01_Total_Energy') 790288\n",
      "Pandas(Index=234042, Date=Timestamp('2020-12-09 06:23:00'), Timestamp=1607480000000.0, Value=64238, Signal='Inv01_Total_Energy') 6316688\n",
      "Pandas(Index=237958, Date=Timestamp('2020-12-13 18:57:00'), Timestamp=1607870000000.0, Value=65533, Signal='Inv01_Total_Energy') 525072\n",
      "Pandas(Index=249057, Date=Timestamp('2020-12-27 21:11:00'), Timestamp=1609080000000.0, Value=69048, Signal='Inv01_Total_Energy') 790288\n"
     ]
    }
   ],
   "source": [
    "previous_value = 0\n",
    "rows = []\n",
    "for row in total_energy_inv01_2020[total_energy_inv01_2020.Value != 0].itertuples():\n",
    "    if row.Value >= previous_value:\n",
    "        previous_value = row.Value\n",
    "    else:\n",
    "        if abs(row.Value - previous_value) > 100:\n",
    "            print(row, previous_value)\n",
    "        rows.append((row, previous_value, abs(row.Value - previous_value)))\n",
    "        previous_value = row.Value"
   ]
  },
  {
   "cell_type": "code",
   "execution_count": 52,
   "id": "7d5bb914",
   "metadata": {},
   "outputs": [],
   "source": [
    "total_energy_inv01_2020.loc[:, 'Hour'] = total_energy_inv01_2020.Date.apply(lambda x: int(str(x.time()).split(':')[0]))"
   ]
  },
  {
   "cell_type": "code",
   "execution_count": 53,
   "id": "14f513be",
   "metadata": {},
   "outputs": [
    {
     "data": {
      "text/plain": [
       "<AxesSubplot:xlabel='Hour', ylabel='count'>"
      ]
     },
     "execution_count": 53,
     "metadata": {},
     "output_type": "execute_result"
    },
    {
     "data": {
      "image/png": "[encoded data removed]",
      "text/plain": [
       "<Figure size 432x288 with 1 Axes>"
      ]
     },
     "metadata": {
      "needs_background": "light"
     },
     "output_type": "display_data"
    }
   ],
   "source": [
    "sns.countplot(x = 'Hour', data = total_energy_inv01_2020[total_energy_inv01_2020.Value == 0])"
   ]
  },
  {
   "cell_type": "code",
   "execution_count": 64,
   "id": "9d57f472",
   "metadata": {},
   "outputs": [
    {
     "data": {
      "text/plain": [
       "33508"
      ]
     },
     "execution_count": 64,
     "metadata": {},
     "output_type": "execute_result"
    }
   ],
   "source": [
    "total_energy_inv01_2020[(total_energy_inv01_2020.Hour.isin([9,10,11,12,13,14,15,16,17])) & (total_energy_inv01_2020.Value == 0)].Date.nunique()"
   ]
  },
  {
   "cell_type": "code",
   "execution_count": 76,
   "id": "156f0c53",
   "metadata": {},
   "outputs": [],
   "source": [
    "today_energy_inv01_2020.loc[:, 'Date'] = pd.to_datetime(today_energy_inv01_2020[['Date']].stack()).unstack()\n",
    "today_energy_inv01_2020.loc[:, 'Hour'] = today_energy_inv01_2020.Date.apply(lambda x: int(str(x.time()).split(':')[0]))"
   ]
  },
  {
   "cell_type": "code",
   "execution_count": 84,
   "id": "ef19be33",
   "metadata": {},
   "outputs": [],
   "source": [
    "val_not_t_be_considered = list(today_energy_inv01_2020.sort_values('Value', ascending=False).head(9)['Value'])"
   ]
  },
  {
   "cell_type": "code",
   "execution_count": 86,
   "id": "632c2fe4",
   "metadata": {},
   "outputs": [
    {
     "data": {
      "text/plain": [
       "(251949, 5)"
      ]
     },
     "execution_count": 86,
     "metadata": {},
     "output_type": "execute_result"
    }
   ],
   "source": [
    "new_df = today_energy_inv01_2020[~today_energy_inv01_2020.Value.isin(val_not_t_be_considered)]\n",
    "new_df.shape"
   ]
  },
  {
   "cell_type": "code",
   "execution_count": 91,
   "id": "611760b0",
   "metadata": {},
   "outputs": [
    {
     "name": "stderr",
     "output_type": "stream",
     "text": [
      "C:\\ProgramData\\Anaconda3\\lib\\site-packages\\pandas\\core\\indexing.py:1773: SettingWithCopyWarning: \n",
      "A value is trying to be set on a copy of a slice from a DataFrame.\n",
      "Try using .loc[row_indexer,col_indexer] = value instead\n",
      "\n",
      "See the caveats in the documentation: https://pandas.pydata.org/pandas-docs/stable/user_guide/indexing.html#returning-a-view-versus-a-copy\n",
      "  self._setitem_single_column(ilocs[0], value, pi)\n"
     ]
    },
    {
     "data": {
      "text/html": [
       "<div>\n",
       "<style scoped>\n",
       "    .dataframe tbody tr th:only-of-type {\n",
       "        vertical-align: middle;\n",
       "    }\n",
       "\n",
       "    .dataframe tbody tr th {\n",
       "        vertical-align: top;\n",
       "    }\n",
       "\n",
       "    .dataframe thead th {\n",
       "        text-align: right;\n",
       "    }\n",
       "</style>\n",
       "<table border=\"1\" class=\"dataframe\">\n",
       "  <thead>\n",
       "    <tr style=\"text-align: right;\">\n",
       "      <th></th>\n",
       "      <th>Date</th>\n",
       "      <th>Timestamp</th>\n",
       "      <th>Value</th>\n",
       "      <th>Signal</th>\n",
       "      <th>Hour</th>\n",
       "      <th>Only_Date</th>\n",
       "    </tr>\n",
       "  </thead>\n",
       "  <tbody>\n",
       "    <tr>\n",
       "      <th>0</th>\n",
       "      <td>2020-01-01 00:32:00</td>\n",
       "      <td>1577818920000</td>\n",
       "      <td>0</td>\n",
       "      <td>Inv01_Today_Energy</td>\n",
       "      <td>0</td>\n",
       "      <td>2020-01-01</td>\n",
       "    </tr>\n",
       "    <tr>\n",
       "      <th>1</th>\n",
       "      <td>2020-01-01 00:33:00</td>\n",
       "      <td>1577818980000</td>\n",
       "      <td>0</td>\n",
       "      <td>Inv01_Today_Energy</td>\n",
       "      <td>0</td>\n",
       "      <td>2020-01-01</td>\n",
       "    </tr>\n",
       "    <tr>\n",
       "      <th>2</th>\n",
       "      <td>2020-01-01 08:24:00</td>\n",
       "      <td>1577847240000</td>\n",
       "      <td>0</td>\n",
       "      <td>Inv01_Today_Energy</td>\n",
       "      <td>8</td>\n",
       "      <td>2020-01-01</td>\n",
       "    </tr>\n",
       "    <tr>\n",
       "      <th>3</th>\n",
       "      <td>2020-01-01 08:25:00</td>\n",
       "      <td>1577847300000</td>\n",
       "      <td>0</td>\n",
       "      <td>Inv01_Today_Energy</td>\n",
       "      <td>8</td>\n",
       "      <td>2020-01-01</td>\n",
       "    </tr>\n",
       "    <tr>\n",
       "      <th>4</th>\n",
       "      <td>2020-01-01 08:26:00</td>\n",
       "      <td>1577847360000</td>\n",
       "      <td>0</td>\n",
       "      <td>Inv01_Today_Energy</td>\n",
       "      <td>8</td>\n",
       "      <td>2020-01-01</td>\n",
       "    </tr>\n",
       "  </tbody>\n",
       "</table>\n",
       "</div>"
      ],
      "text/plain": [
       "                 Date      Timestamp  Value              Signal  Hour  \\\n",
       "0 2020-01-01 00:32:00  1577818920000      0  Inv01_Today_Energy     0   \n",
       "1 2020-01-01 00:33:00  1577818980000      0  Inv01_Today_Energy     0   \n",
       "2 2020-01-01 08:24:00  1577847240000      0  Inv01_Today_Energy     8   \n",
       "3 2020-01-01 08:25:00  1577847300000      0  Inv01_Today_Energy     8   \n",
       "4 2020-01-01 08:26:00  1577847360000      0  Inv01_Today_Energy     8   \n",
       "\n",
       "    Only_Date  \n",
       "0  2020-01-01  \n",
       "1  2020-01-01  \n",
       "2  2020-01-01  \n",
       "3  2020-01-01  \n",
       "4  2020-01-01  "
      ]
     },
     "execution_count": 91,
     "metadata": {},
     "output_type": "execute_result"
    }
   ],
   "source": [
    "new_df.loc[:, 'Only_Date'] = new_df.Date.apply(lambda x: str(x.date()))\n",
    "new_df.head()"
   ]
  },
  {
   "cell_type": "code",
   "execution_count": 98,
   "id": "87bd4461",
   "metadata": {},
   "outputs": [
    {
     "data": {
      "text/html": [
       "<div>\n",
       "<style scoped>\n",
       "    .dataframe tbody tr th:only-of-type {\n",
       "        vertical-align: middle;\n",
       "    }\n",
       "\n",
       "    .dataframe tbody tr th {\n",
       "        vertical-align: top;\n",
       "    }\n",
       "\n",
       "    .dataframe thead th {\n",
       "        text-align: right;\n",
       "    }\n",
       "</style>\n",
       "<table border=\"1\" class=\"dataframe\">\n",
       "  <thead>\n",
       "    <tr style=\"text-align: right;\">\n",
       "      <th></th>\n",
       "      <th>Only_Date</th>\n",
       "      <th>Value</th>\n",
       "    </tr>\n",
       "  </thead>\n",
       "  <tbody>\n",
       "    <tr>\n",
       "      <th>0</th>\n",
       "      <td>2020-01-01</td>\n",
       "      <td>0</td>\n",
       "    </tr>\n",
       "    <tr>\n",
       "      <th>1</th>\n",
       "      <td>2020-01-02</td>\n",
       "      <td>0</td>\n",
       "    </tr>\n",
       "    <tr>\n",
       "      <th>2</th>\n",
       "      <td>2020-01-03</td>\n",
       "      <td>0</td>\n",
       "    </tr>\n",
       "    <tr>\n",
       "      <th>3</th>\n",
       "      <td>2020-01-04</td>\n",
       "      <td>0</td>\n",
       "    </tr>\n",
       "    <tr>\n",
       "      <th>4</th>\n",
       "      <td>2020-01-05</td>\n",
       "      <td>0</td>\n",
       "    </tr>\n",
       "  </tbody>\n",
       "</table>\n",
       "</div>"
      ],
      "text/plain": [
       "    Only_Date  Value\n",
       "0  2020-01-01      0\n",
       "1  2020-01-02      0\n",
       "2  2020-01-03      0\n",
       "3  2020-01-04      0\n",
       "4  2020-01-05      0"
      ]
     },
     "execution_count": 98,
     "metadata": {},
     "output_type": "execute_result"
    }
   ],
   "source": [
    "grouped_by_date_today_energy_2020_inv01 = new_df.groupby('Only_Date').sum().reset_index()[['Only_Date', 'Value']]\n",
    "grouped_by_date_today_energy_2020_inv01.head()"
   ]
  },
  {
   "cell_type": "code",
   "execution_count": 108,
   "id": "302dfdda",
   "metadata": {},
   "outputs": [
    {
     "data": {
      "text/html": [
       "<div>\n",
       "<style scoped>\n",
       "    .dataframe tbody tr th:only-of-type {\n",
       "        vertical-align: middle;\n",
       "    }\n",
       "\n",
       "    .dataframe tbody tr th {\n",
       "        vertical-align: top;\n",
       "    }\n",
       "\n",
       "    .dataframe thead th {\n",
       "        text-align: right;\n",
       "    }\n",
       "</style>\n",
       "<table border=\"1\" class=\"dataframe\">\n",
       "  <thead>\n",
       "    <tr style=\"text-align: right;\">\n",
       "      <th></th>\n",
       "      <th>Date</th>\n",
       "      <th>Timestamp</th>\n",
       "      <th>Value</th>\n",
       "      <th>Signal</th>\n",
       "    </tr>\n",
       "  </thead>\n",
       "  <tbody>\n",
       "    <tr>\n",
       "      <th>0</th>\n",
       "      <td>2020-01-01 00:32:00</td>\n",
       "      <td>1577818920000</td>\n",
       "      <td>0</td>\n",
       "      <td>Wms01_Temp</td>\n",
       "    </tr>\n",
       "    <tr>\n",
       "      <th>1</th>\n",
       "      <td>2020-01-01 00:33:00</td>\n",
       "      <td>1577818980000</td>\n",
       "      <td>198</td>\n",
       "      <td>Wms01_Temp</td>\n",
       "    </tr>\n",
       "    <tr>\n",
       "      <th>2</th>\n",
       "      <td>2020-01-01 08:24:00</td>\n",
       "      <td>1577847240000</td>\n",
       "      <td>0</td>\n",
       "      <td>Wms01_Temp</td>\n",
       "    </tr>\n",
       "    <tr>\n",
       "      <th>3</th>\n",
       "      <td>2020-01-01 08:25:00</td>\n",
       "      <td>1577847300000</td>\n",
       "      <td>212</td>\n",
       "      <td>Wms01_Temp</td>\n",
       "    </tr>\n",
       "    <tr>\n",
       "      <th>4</th>\n",
       "      <td>2020-01-01 08:26:00</td>\n",
       "      <td>1577847360000</td>\n",
       "      <td>213</td>\n",
       "      <td>Wms01_Temp</td>\n",
       "    </tr>\n",
       "  </tbody>\n",
       "</table>\n",
       "</div>"
      ],
      "text/plain": [
       "                  Date      Timestamp  Value      Signal\n",
       "0  2020-01-01 00:32:00  1577818920000      0  Wms01_Temp\n",
       "1  2020-01-01 00:33:00  1577818980000    198  Wms01_Temp\n",
       "2  2020-01-01 08:24:00  1577847240000      0  Wms01_Temp\n",
       "3  2020-01-01 08:25:00  1577847300000    212  Wms01_Temp\n",
       "4  2020-01-01 08:26:00  1577847360000    213  Wms01_Temp"
      ]
     },
     "execution_count": 108,
     "metadata": {},
     "output_type": "execute_result"
    }
   ],
   "source": [
    "temp_2020 = pd.read_csv(\"Data/Required Data Inverterwise/wms01/2020_temp_data.csv\")\n",
    "temp_2020.head()"
   ]
  },
  {
   "cell_type": "code",
   "execution_count": 109,
   "id": "ba65aee2",
   "metadata": {},
   "outputs": [],
   "source": [
    "temp_2020.loc[:, 'Date'] = pd.to_datetime(temp_2020[['Date']].stack()).unstack()"
   ]
  },
  {
   "cell_type": "code",
   "execution_count": 110,
   "id": "bb4f4585",
   "metadata": {},
   "outputs": [
    {
     "data": {
      "text/html": [
       "<div>\n",
       "<style scoped>\n",
       "    .dataframe tbody tr th:only-of-type {\n",
       "        vertical-align: middle;\n",
       "    }\n",
       "\n",
       "    .dataframe tbody tr th {\n",
       "        vertical-align: top;\n",
       "    }\n",
       "\n",
       "    .dataframe thead th {\n",
       "        text-align: right;\n",
       "    }\n",
       "</style>\n",
       "<table border=\"1\" class=\"dataframe\">\n",
       "  <thead>\n",
       "    <tr style=\"text-align: right;\">\n",
       "      <th></th>\n",
       "      <th>Date</th>\n",
       "      <th>Timestamp</th>\n",
       "      <th>Value</th>\n",
       "      <th>Signal</th>\n",
       "      <th>Only_Date</th>\n",
       "    </tr>\n",
       "  </thead>\n",
       "  <tbody>\n",
       "    <tr>\n",
       "      <th>0</th>\n",
       "      <td>2020-01-01 00:32:00</td>\n",
       "      <td>1577818920000</td>\n",
       "      <td>0</td>\n",
       "      <td>Wms01_Temp</td>\n",
       "      <td>2020-01-01</td>\n",
       "    </tr>\n",
       "    <tr>\n",
       "      <th>1</th>\n",
       "      <td>2020-01-01 00:33:00</td>\n",
       "      <td>1577818980000</td>\n",
       "      <td>198</td>\n",
       "      <td>Wms01_Temp</td>\n",
       "      <td>2020-01-01</td>\n",
       "    </tr>\n",
       "    <tr>\n",
       "      <th>2</th>\n",
       "      <td>2020-01-01 08:24:00</td>\n",
       "      <td>1577847240000</td>\n",
       "      <td>0</td>\n",
       "      <td>Wms01_Temp</td>\n",
       "      <td>2020-01-01</td>\n",
       "    </tr>\n",
       "    <tr>\n",
       "      <th>3</th>\n",
       "      <td>2020-01-01 08:25:00</td>\n",
       "      <td>1577847300000</td>\n",
       "      <td>212</td>\n",
       "      <td>Wms01_Temp</td>\n",
       "      <td>2020-01-01</td>\n",
       "    </tr>\n",
       "    <tr>\n",
       "      <th>4</th>\n",
       "      <td>2020-01-01 08:26:00</td>\n",
       "      <td>1577847360000</td>\n",
       "      <td>213</td>\n",
       "      <td>Wms01_Temp</td>\n",
       "      <td>2020-01-01</td>\n",
       "    </tr>\n",
       "  </tbody>\n",
       "</table>\n",
       "</div>"
      ],
      "text/plain": [
       "                 Date      Timestamp  Value      Signal   Only_Date\n",
       "0 2020-01-01 00:32:00  1577818920000      0  Wms01_Temp  2020-01-01\n",
       "1 2020-01-01 00:33:00  1577818980000    198  Wms01_Temp  2020-01-01\n",
       "2 2020-01-01 08:24:00  1577847240000      0  Wms01_Temp  2020-01-01\n",
       "3 2020-01-01 08:25:00  1577847300000    212  Wms01_Temp  2020-01-01\n",
       "4 2020-01-01 08:26:00  1577847360000    213  Wms01_Temp  2020-01-01"
      ]
     },
     "execution_count": 110,
     "metadata": {},
     "output_type": "execute_result"
    }
   ],
   "source": [
    "temp_2020.loc[:, 'Only_Date'] = temp_2020.Date.apply(lambda x: str(x.date()))\n",
    "temp_2020.head()"
   ]
  },
  {
   "cell_type": "code",
   "execution_count": 111,
   "id": "9bce899f",
   "metadata": {},
   "outputs": [
    {
     "data": {
      "text/html": [
       "<div>\n",
       "<style scoped>\n",
       "    .dataframe tbody tr th:only-of-type {\n",
       "        vertical-align: middle;\n",
       "    }\n",
       "\n",
       "    .dataframe tbody tr th {\n",
       "        vertical-align: top;\n",
       "    }\n",
       "\n",
       "    .dataframe thead th {\n",
       "        text-align: right;\n",
       "    }\n",
       "</style>\n",
       "<table border=\"1\" class=\"dataframe\">\n",
       "  <thead>\n",
       "    <tr style=\"text-align: right;\">\n",
       "      <th></th>\n",
       "      <th>Only_Date</th>\n",
       "      <th>Date</th>\n",
       "      <th>Timestamp</th>\n",
       "      <th>Value</th>\n",
       "      <th>Signal</th>\n",
       "    </tr>\n",
       "  </thead>\n",
       "  <tbody>\n",
       "    <tr>\n",
       "      <th>0</th>\n",
       "      <td>2020-01-01</td>\n",
       "      <td>2020-01-01 18:26:00</td>\n",
       "      <td>1577883360000</td>\n",
       "      <td>279</td>\n",
       "      <td>Wms01_Temp</td>\n",
       "    </tr>\n",
       "    <tr>\n",
       "      <th>1</th>\n",
       "      <td>2020-01-02</td>\n",
       "      <td>2020-01-02 23:29:00</td>\n",
       "      <td>1577987940000</td>\n",
       "      <td>323</td>\n",
       "      <td>Wms01_Temp</td>\n",
       "    </tr>\n",
       "    <tr>\n",
       "      <th>2</th>\n",
       "      <td>2020-01-03</td>\n",
       "      <td>2020-01-03 18:28:00</td>\n",
       "      <td>1578056280000</td>\n",
       "      <td>356</td>\n",
       "      <td>Wms01_Temp</td>\n",
       "    </tr>\n",
       "    <tr>\n",
       "      <th>3</th>\n",
       "      <td>2020-01-04</td>\n",
       "      <td>2020-01-04 19:26:00</td>\n",
       "      <td>1578146160000</td>\n",
       "      <td>336</td>\n",
       "      <td>Wms01_Temp</td>\n",
       "    </tr>\n",
       "    <tr>\n",
       "      <th>4</th>\n",
       "      <td>2020-01-05</td>\n",
       "      <td>2020-01-05 19:33:00</td>\n",
       "      <td>1578232980000</td>\n",
       "      <td>369</td>\n",
       "      <td>Wms01_Temp</td>\n",
       "    </tr>\n",
       "  </tbody>\n",
       "</table>\n",
       "</div>"
      ],
      "text/plain": [
       "    Only_Date                Date      Timestamp  Value      Signal\n",
       "0  2020-01-01 2020-01-01 18:26:00  1577883360000    279  Wms01_Temp\n",
       "1  2020-01-02 2020-01-02 23:29:00  1577987940000    323  Wms01_Temp\n",
       "2  2020-01-03 2020-01-03 18:28:00  1578056280000    356  Wms01_Temp\n",
       "3  2020-01-04 2020-01-04 19:26:00  1578146160000    336  Wms01_Temp\n",
       "4  2020-01-05 2020-01-05 19:33:00  1578232980000    369  Wms01_Temp"
      ]
     },
     "execution_count": 111,
     "metadata": {},
     "output_type": "execute_result"
    }
   ],
   "source": [
    "temp_2020 = temp_2020.groupby('Only_Date').max().reset_index()\n",
    "temp_2020.head()"
   ]
  },
  {
   "cell_type": "code",
   "execution_count": 112,
   "id": "0ced8c06",
   "metadata": {},
   "outputs": [
    {
     "data": {
      "text/html": [
       "<div>\n",
       "<style scoped>\n",
       "    .dataframe tbody tr th:only-of-type {\n",
       "        vertical-align: middle;\n",
       "    }\n",
       "\n",
       "    .dataframe tbody tr th {\n",
       "        vertical-align: top;\n",
       "    }\n",
       "\n",
       "    .dataframe thead th {\n",
       "        text-align: right;\n",
       "    }\n",
       "</style>\n",
       "<table border=\"1\" class=\"dataframe\">\n",
       "  <thead>\n",
       "    <tr style=\"text-align: right;\">\n",
       "      <th></th>\n",
       "      <th>Only_Date</th>\n",
       "      <th>Date</th>\n",
       "      <th>Timestamp</th>\n",
       "      <th>Value</th>\n",
       "      <th>Signal</th>\n",
       "    </tr>\n",
       "  </thead>\n",
       "  <tbody>\n",
       "    <tr>\n",
       "      <th>0</th>\n",
       "      <td>2020-01-01</td>\n",
       "      <td>2020-01-01 18:26:00</td>\n",
       "      <td>1577883360000</td>\n",
       "      <td>27.9</td>\n",
       "      <td>Wms01_Temp</td>\n",
       "    </tr>\n",
       "    <tr>\n",
       "      <th>1</th>\n",
       "      <td>2020-01-02</td>\n",
       "      <td>2020-01-02 23:29:00</td>\n",
       "      <td>1577987940000</td>\n",
       "      <td>32.3</td>\n",
       "      <td>Wms01_Temp</td>\n",
       "    </tr>\n",
       "    <tr>\n",
       "      <th>2</th>\n",
       "      <td>2020-01-03</td>\n",
       "      <td>2020-01-03 18:28:00</td>\n",
       "      <td>1578056280000</td>\n",
       "      <td>35.6</td>\n",
       "      <td>Wms01_Temp</td>\n",
       "    </tr>\n",
       "    <tr>\n",
       "      <th>3</th>\n",
       "      <td>2020-01-04</td>\n",
       "      <td>2020-01-04 19:26:00</td>\n",
       "      <td>1578146160000</td>\n",
       "      <td>33.6</td>\n",
       "      <td>Wms01_Temp</td>\n",
       "    </tr>\n",
       "    <tr>\n",
       "      <th>4</th>\n",
       "      <td>2020-01-05</td>\n",
       "      <td>2020-01-05 19:33:00</td>\n",
       "      <td>1578232980000</td>\n",
       "      <td>36.9</td>\n",
       "      <td>Wms01_Temp</td>\n",
       "    </tr>\n",
       "  </tbody>\n",
       "</table>\n",
       "</div>"
      ],
      "text/plain": [
       "    Only_Date                Date      Timestamp  Value      Signal\n",
       "0  2020-01-01 2020-01-01 18:26:00  1577883360000   27.9  Wms01_Temp\n",
       "1  2020-01-02 2020-01-02 23:29:00  1577987940000   32.3  Wms01_Temp\n",
       "2  2020-01-03 2020-01-03 18:28:00  1578056280000   35.6  Wms01_Temp\n",
       "3  2020-01-04 2020-01-04 19:26:00  1578146160000   33.6  Wms01_Temp\n",
       "4  2020-01-05 2020-01-05 19:33:00  1578232980000   36.9  Wms01_Temp"
      ]
     },
     "execution_count": 112,
     "metadata": {},
     "output_type": "execute_result"
    }
   ],
   "source": [
    "temp_2020.loc[:, 'Value'] = temp_2020.Value.apply(lambda x: x/10)\n",
    "temp_2020.head()"
   ]
  },
  {
   "cell_type": "code",
   "execution_count": 117,
   "id": "9228b416",
   "metadata": {},
   "outputs": [
    {
     "data": {
      "text/html": [
       "<div>\n",
       "<style scoped>\n",
       "    .dataframe tbody tr th:only-of-type {\n",
       "        vertical-align: middle;\n",
       "    }\n",
       "\n",
       "    .dataframe tbody tr th {\n",
       "        vertical-align: top;\n",
       "    }\n",
       "\n",
       "    .dataframe thead th {\n",
       "        text-align: right;\n",
       "    }\n",
       "</style>\n",
       "<table border=\"1\" class=\"dataframe\">\n",
       "  <thead>\n",
       "    <tr style=\"text-align: right;\">\n",
       "      <th></th>\n",
       "      <th>Only_Date</th>\n",
       "      <th>Date</th>\n",
       "      <th>Timestamp</th>\n",
       "      <th>Value_x</th>\n",
       "      <th>Signal</th>\n",
       "      <th>Value_y</th>\n",
       "    </tr>\n",
       "  </thead>\n",
       "  <tbody>\n",
       "    <tr>\n",
       "      <th>0</th>\n",
       "      <td>2020-01-01</td>\n",
       "      <td>2020-01-01 18:26:00</td>\n",
       "      <td>1577883360000</td>\n",
       "      <td>27.9</td>\n",
       "      <td>Wms01_Temp</td>\n",
       "      <td>0</td>\n",
       "    </tr>\n",
       "    <tr>\n",
       "      <th>1</th>\n",
       "      <td>2020-01-02</td>\n",
       "      <td>2020-01-02 23:29:00</td>\n",
       "      <td>1577987940000</td>\n",
       "      <td>32.3</td>\n",
       "      <td>Wms01_Temp</td>\n",
       "      <td>0</td>\n",
       "    </tr>\n",
       "    <tr>\n",
       "      <th>2</th>\n",
       "      <td>2020-01-03</td>\n",
       "      <td>2020-01-03 18:28:00</td>\n",
       "      <td>1578056280000</td>\n",
       "      <td>35.6</td>\n",
       "      <td>Wms01_Temp</td>\n",
       "      <td>0</td>\n",
       "    </tr>\n",
       "    <tr>\n",
       "      <th>3</th>\n",
       "      <td>2020-01-04</td>\n",
       "      <td>2020-01-04 19:26:00</td>\n",
       "      <td>1578146160000</td>\n",
       "      <td>33.6</td>\n",
       "      <td>Wms01_Temp</td>\n",
       "      <td>0</td>\n",
       "    </tr>\n",
       "    <tr>\n",
       "      <th>4</th>\n",
       "      <td>2020-01-05</td>\n",
       "      <td>2020-01-05 19:33:00</td>\n",
       "      <td>1578232980000</td>\n",
       "      <td>36.9</td>\n",
       "      <td>Wms01_Temp</td>\n",
       "      <td>0</td>\n",
       "    </tr>\n",
       "  </tbody>\n",
       "</table>\n",
       "</div>"
      ],
      "text/plain": [
       "    Only_Date                Date      Timestamp  Value_x      Signal  Value_y\n",
       "0  2020-01-01 2020-01-01 18:26:00  1577883360000     27.9  Wms01_Temp        0\n",
       "1  2020-01-02 2020-01-02 23:29:00  1577987940000     32.3  Wms01_Temp        0\n",
       "2  2020-01-03 2020-01-03 18:28:00  1578056280000     35.6  Wms01_Temp        0\n",
       "3  2020-01-04 2020-01-04 19:26:00  1578146160000     33.6  Wms01_Temp        0\n",
       "4  2020-01-05 2020-01-05 19:33:00  1578232980000     36.9  Wms01_Temp        0"
      ]
     },
     "execution_count": 117,
     "metadata": {},
     "output_type": "execute_result"
    }
   ],
   "source": [
    "combined_df = temp_2020.merge(grouped_by_date_today_energy_2020_inv01, on = 'Only_Date')\n",
    "combined_df.rename({'Value_x':'Temperature', 'Value_y': 'Energy'})\n",
    "combined_df.head()"
   ]
  },
  {
   "cell_type": "code",
   "execution_count": null,
   "id": "122ed7bd",
   "metadata": {},
   "outputs": [],
   "source": []
  },
  {
   "cell_type": "code",
   "execution_count": null,
   "id": "c077fd3e",
   "metadata": {},
   "outputs": [],
   "source": []
  },
  {
   "cell_type": "code",
   "execution_count": 54,
   "id": "9f57b5b4",
   "metadata": {},
   "outputs": [
    {
     "data": {
      "text/plain": [
       "<AxesSubplot:xlabel='Hour', ylabel='count'>"
      ]
     },
     "execution_count": 54,
     "metadata": {},
     "output_type": "execute_result"
    },
    {
     "data": {
      "image/png": "[encoded data removed]",
      "text/plain": [
       "<Figure size 432x288 with 1 Axes>"
      ]
     },
     "metadata": {
      "needs_background": "light"
     },
     "output_type": "display_data"
    }
   ],
   "source": [
    "total_energy_inv01_2021.loc[:, 'Date'] = pd.to_datetime(total_energy_inv01_2021[['Date']].stack()).unstack()\n",
    "total_energy_inv01_2021.loc[:, 'Hour'] = total_energy_inv01_2021.Date.apply(lambda x: int(str(x.time()).split(':')[0]))\n",
    "sns.countplot(x = 'Hour', data = total_energy_inv01_2020[total_energy_inv01_2020.Value == 0])"
   ]
  },
  {
   "cell_type": "code",
   "execution_count": null,
   "id": "eb2e9c24",
   "metadata": {},
   "outputs": [],
   "source": []
  }
 ],
 "metadata": {
  "kernelspec": {
   "display_name": "Python 3 (ipykernel)",
   "language": "python",
   "name": "python3"
  },
  "language_info": {
   "codemirror_mode": {
    "name": "ipython",
    "version": 3
   },
   "file_extension": ".py",
   "mimetype": "text/x-python",
   "name": "python",
   "nbconvert_exporter": "python",
   "pygments_lexer": "ipython3",
   "version": "3.9.7"
  }
 },
 "nbformat": 4,
 "nbformat_minor": 5
}
