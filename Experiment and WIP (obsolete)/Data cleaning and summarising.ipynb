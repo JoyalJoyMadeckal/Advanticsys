{
 "cells": [
  {
   "cell_type": "code",
   "execution_count": 1,
   "id": "251a7faf",
   "metadata": {},
   "outputs": [],
   "source": [
    "import pandas as pd\n",
    "import os\n",
    "import re\n",
    "from datetime import datetime\n",
    "import seaborn as sns\n",
    "import matplotlib.pyplot as plt\n",
    "import itertools\n",
    "import shutil\n",
    "from scipy import stats\n",
    "import requests\n",
    "import random\n"
   ]
  },
  {
   "cell_type": "code",
   "execution_count": 2,
   "id": "9fb87046",
   "metadata": {},
   "outputs": [],
   "source": [
    "inverters = {\n",
    "    'inv01':'wms01',\n",
    "    'inv02':'wms01',\n",
    "    'inv03':'wms01',\n",
    "    'inv04':'wms01',\n",
    "    'inv05':'wms01',\n",
    "    'inv06':'wms02',\n",
    "    'inv07':'wms02',\n",
    "    'inv08':'wms02',\n",
    "    'inv09':'wms02',\n",
    "    'inv10':'wms02',\n",
    "}"
   ]
  },
  {
   "cell_type": "code",
   "execution_count": 3,
   "id": "1a0a219a",
   "metadata": {},
   "outputs": [],
   "source": [
    "def dataClean(year, inv):\n",
    "       \n",
    "    dirpath = \"/Users/qilu/Desktop/Advanticsys/Data/\" + str(year)\n",
    "    filenames = os.listdir(dirpath)\n",
    "    \n",
    "\n",
    "    for file in filenames:         \n",
    "        inv_today_match = re.search(re.escape(inv) + r'_today_energy', file)    \n",
    "        if inv_today_match:\n",
    "            df_today_energy = pd.read_csv(dirpath+'/'+file,delimiter=';',index_col=None, header=0)\n",
    "            \n",
    "            df_today_energy = df_today_energy[(df_today_energy[['Value']] > 0).all(axis=1)]\n",
    "            df_today_energy.rename(columns={\"Value\": \"Today_Energy\", \"Signal\": \"Inverter\"}, inplace=True)\n",
    "            df_today_energy['Inverter'] = df_today_energy['Inverter'].str.split('_').str[0]\n",
    "\n",
    "            todayEnergyQ1 = df_today_energy.Today_Energy.quantile(0.25)\n",
    "            todayEnergyQ3 = df_today_energy.Today_Energy.quantile(0.75)\n",
    "            todayEnergyUpper = todayEnergyQ3 + 1.5*(todayEnergyQ3-todayEnergyQ1)\n",
    "            df_today_energy = df_today_energy[(df_today_energy[['Today_Energy']] < todayEnergyUpper).all(axis=1)]\n",
    "            \n",
    "    for file in filenames:         \n",
    "        inv_total_match = re.search(re.escape(inv) + r'_total_energy', file)    \n",
    "        if inv_total_match:\n",
    "            df_total_energy = pd.read_csv(dirpath+'/'+file,delimiter=';',index_col=None, header=0)\n",
    "            \n",
    "            df_total_energy = df_total_energy[(df_total_energy[['Value']] > 0).all(axis=1)]\n",
    "            df_total_energy.rename(columns={\"Value\": \"Total_Energy\", \"Signal\": \"Inverter\"}, inplace=True)\n",
    "            df_total_energy['Inverter'] = df_total_energy['Inverter'].str.split('_').str[0]\n",
    "\n",
    "    for file in filenames:         \n",
    "        inv_temp_match = re.search(re.escape(inv) + r'_temp', file)    \n",
    "        if inv_temp_match:\n",
    "            df_inv_temp = pd.read_csv(dirpath+'/'+file,delimiter=';',index_col=None, header=0)\n",
    "            df_inv_temp.loc[:, 'Value'] = df_inv_temp.Value.apply(lambda x: x/10) \n",
    "            \n",
    "            df_inv_temp = df_inv_temp[(df_inv_temp[['Value']] > 0).all(axis=1)]            \n",
    "            df_inv_temp.rename(columns={\"Value\": \"Inv_Temp\", \"Signal\": \"Inverter\"}, inplace=True)          \n",
    "            df_inv_temp['Inverter'] = df_inv_temp['Inverter'].str.split('_').str[0]   \n",
    "            \n",
    "    for file in filenames:         \n",
    "        wms_temp_match = re.search(re.escape(inverters[inv]) + r'_temp', file)    \n",
    "        if wms_temp_match:\n",
    "            df_wms_temp = pd.read_csv(dirpath+'/'+file,delimiter=';',index_col=None, header=0)\n",
    "            df_wms_temp.loc[:, 'Value'] = df_wms_temp.Value.apply(lambda x: x/10) \n",
    "            \n",
    "            df_wms_temp = df_wms_temp[(df_wms_temp[['Value']] > 0).all(axis=1)]           \n",
    "            df_wms_temp.rename(columns={\"Value\": \"Wms_Temp\", \"Signal\": \"Inverter\"}, inplace=True)          \n",
    "            df_wms_temp['Inverter'] = df_wms_temp['Inverter'].str.split('_').str[0]        \n",
    "            \n",
    "    for file in filenames:         \n",
    "        wms_irr_match = re.search(re.escape(inverters[inv]) + r'_irradiance', file)    \n",
    "        if wms_irr_match:\n",
    "            df_wms_irr = pd.read_csv(dirpath+'/'+file,delimiter=';',index_col=None, header=0)\n",
    "            \n",
    "            df_wms_irr = df_wms_irr[(df_wms_irr[['Value']] > 0).all(axis=1)]                \n",
    "            df_wms_irr.rename(columns={\"Value\": \"Wms_Irr\", \"Signal\": \"Inverter\"}, inplace=True)          \n",
    "            df_wms_irr['Inverter'] = df_wms_irr['Inverter'].str.split('_').str[0]\n",
    "\n",
    "          \n",
    "    df = pd.merge(df_today_energy,\n",
    "                  df_total_energy[['Timestamp', 'Total_Energy']],\n",
    "                  on='Timestamp') \n",
    "    \n",
    "    df = pd.merge(df,\n",
    "                  df_inv_temp[['Timestamp', 'Inv_Temp']],\n",
    "                  on='Timestamp') \n",
    "    \n",
    "    df = pd.merge(df,\n",
    "                  df_wms_temp[['Timestamp', 'Wms_Temp']],\n",
    "                  on='Timestamp') \n",
    "    \n",
    "    df = pd.merge(df,\n",
    "                  df_wms_irr[['Timestamp', 'Wms_Irr']],\n",
    "                  on='Timestamp')    \n",
    "    \n",
    "    \n",
    "    totalEnergyQ1 = df.Total_Energy.quantile(0.25)\n",
    "    totalEnergyQ3 = df.Total_Energy.quantile(0.75)\n",
    "    totalEnergyUpper = totalEnergyQ3 + 1.5*(totalEnergyQ3-totalEnergyQ1)\n",
    "    df = df[(df[['Total_Energy']] < totalEnergyUpper).all(axis=1)]     \n",
    "    \n",
    "    invTempQ1 = df.Inv_Temp.quantile(0.25)\n",
    "    invTempQ3 = df.Inv_Temp.quantile(0.75)\n",
    "    invTempUpper = invTempQ3 + 1.5*(invTempQ3-invTempQ1)\n",
    "    invTempLower = invTempQ1 - 1.5*(invTempQ3-invTempQ1)           \n",
    "    df = df[((df[['Inv_Temp']] > invTempLower)\n",
    "                              & (df[['Inv_Temp']] < invTempUpper)).all(axis=1)]        \n",
    "    \n",
    "    wmsTempQ1 = df.Wms_Temp.quantile(0.25)\n",
    "    wmsTempQ3 = df.Wms_Temp.quantile(0.75)\n",
    "    wmsTempUpper = wmsTempQ3 + 1.5*(wmsTempQ3-wmsTempQ1)\n",
    "    wmsTempLower = wmsTempQ1 - 1.5*(wmsTempQ3-wmsTempQ1)           \n",
    "    df = df[((df[['Wms_Temp']] > wmsTempLower)\n",
    "                              & (df[['Wms_Temp']] < wmsTempUpper)).all(axis=1)]    \n",
    "    \n",
    "    wmsIrrQ1 = df.Wms_Irr.quantile(0.25)\n",
    "    wmsIrrQ3 = df.Wms_Irr.quantile(0.75)\n",
    "    wmsIrrUpper = wmsIrrQ3 + 1.5*(wmsIrrQ3-wmsIrrQ1)\n",
    "    wmsIrrLower = wmsIrrQ1 - 1.5*(wmsIrrQ3-wmsIrrQ1)           \n",
    "    df = df[((df[['Wms_Irr']] > wmsIrrLower)\n",
    "                              & (df[['Wms_Irr']] < wmsIrrUpper)).all(axis=1)]     \n",
    "    \n",
    "    df.loc[:, 'Date'] = pd.to_datetime(df[['Date']].stack()).unstack()\n",
    "    df.loc[:, 'Only_Date'] = df.Date.apply(lambda x: str(x.date()))\n",
    "    df.loc[:, 'Hour'] = df.Date.apply(lambda x: int(str(x.time()).split(':')[0]))\n",
    "    df.loc[:, 'Minute'] = df.Date.apply(lambda x: int(str(x.time()).split(':')[1]))\n",
    "    df = df.drop(['Date'], axis=1)\n",
    "    df.rename(columns={\"Only_Date\": \"Date\"}, inplace=True) \n",
    "    df = df.drop(['Timestamp'], axis=1)    \n",
    "    return df\n",
    "    \n",
    "#     savepath = \"/Users/qilu/Desktop/Advanticsys/Data/Output_Data/\" \n",
    "        \n",
    "#     return df.to_csv(savepath+str(year)+'_'+str(inv)+'.csv', index=False)"
   ]
  },
  {
   "cell_type": "code",
   "execution_count": 4,
   "id": "aa3ad8ab",
   "metadata": {},
   "outputs": [],
   "source": [
    "def singleCleanFile(year):\n",
    "    \n",
    "    outputpath = \"/Users/qilu/Desktop/Advanticsys/Data/Output_Data/\"     \n",
    "    invNo = ['inv01',\n",
    "             'inv02',\n",
    "             'inv03',\n",
    "             'inv04',\n",
    "             'inv05',\n",
    "             'inv06',\n",
    "             'inv07',\n",
    "             'inv08',\n",
    "             'inv09',\n",
    "             'inv10']\n",
    "    for inv in invNo:\n",
    "        df = dataClean(year, inv)\n",
    "        df.to_csv(outputpath+str(year)+'_'+str(inv)+'.csv', index=False)\n",
    "    return\n",
    "    "
   ]
  },
  {
   "cell_type": "code",
   "execution_count": 5,
   "id": "5dabe414",
   "metadata": {},
   "outputs": [],
   "source": [
    "def combineCleanFile(year):\n",
    "    \n",
    "    cleanDataFiles = []     \n",
    "    cleanFilesPath = \"/Users/qilu/Desktop/Advanticsys/Data/Output_Data/\"  \n",
    "    filenames = os.listdir(cleanFilesPath)\n",
    "    \n",
    "    for file in filenames:         \n",
    "        year_match = re.search(re.escape(str(year)), file)    \n",
    "        if year_match:\n",
    "            cleanDataFiles.append(cleanFilesPath+file)   \n",
    "    df_comb = pd.concat((pd.read_csv(filenames, index_col=None, header=0) for filenames in cleanDataFiles))        \n",
    "            \n",
    "            \n",
    "    \n",
    "    return df_comb.to_csv(cleanFilesPath+str(year)+'_combine.csv', index=False)"
   ]
  },
  {
   "cell_type": "code",
   "execution_count": 6,
   "id": "5ac2cf0e",
   "metadata": {},
   "outputs": [],
   "source": [
    "singleCleanFile(2020)"
   ]
  },
  {
   "cell_type": "code",
   "execution_count": 7,
   "id": "05d5ee90",
   "metadata": {},
   "outputs": [],
   "source": [
    "combineCleanFile(2020)"
   ]
  },
  {
   "cell_type": "code",
   "execution_count": 8,
   "id": "13020ddc",
   "metadata": {},
   "outputs": [],
   "source": [
    "singleCleanFile(2021)"
   ]
  },
  {
   "cell_type": "code",
   "execution_count": 9,
   "id": "1c5ab204",
   "metadata": {},
   "outputs": [],
   "source": [
    "combineCleanFile(2021)"
   ]
  },
  {
   "cell_type": "code",
   "execution_count": null,
   "id": "8c2b4a8d",
   "metadata": {},
   "outputs": [],
   "source": []
  },
  {
   "cell_type": "code",
   "execution_count": 10,
   "id": "1ce991bc",
   "metadata": {},
   "outputs": [],
   "source": [
    "def quarter(x):\n",
    "    if x < 16:\n",
    "        return 1\n",
    "    elif x < 31:\n",
    "        return 2\n",
    "    elif x < 46:\n",
    "        return 3\n",
    "    else:\n",
    "        return 4"
   ]
  },
  {
   "cell_type": "code",
   "execution_count": 11,
   "id": "4852bddf",
   "metadata": {},
   "outputs": [],
   "source": [
    "def dashboardData(year):\n",
    "    \n",
    "    cleanFilesPath = \"/Users/qilu/Desktop/Advanticsys/Data/Output_Data/\"  \n",
    "    \n",
    "    df_clean = pd.read_csv(cleanFilesPath+str(year)+'_combine.csv',index_col=None, header=0)\n",
    "    df_clean.loc[:, 'Quarter'] = df_clean.Minute.apply(lambda x: quarter(x))\n",
    "    df_clean['Date_Hour_Quarter_Inv'] = df_clean['Date'].astype(str) + '_' + df_clean['Hour'].astype(str) + '_' + df_clean['Quarter'].astype(str) + '_' + df_clean['Inverter'].astype(str)\n",
    "    df_clean = df_clean.drop(['Date', 'Hour', 'Minute', 'Quarter', 'Inverter'], axis=1)\n",
    "    df_clean['Today_Energy_Copy'] = df_clean['Today_Energy']\n",
    "    df_clean['Wms_Irr_Max'] = df_clean['Wms_Irr']\n",
    "    df_clean['Wms_Irr_Min'] = df_clean['Wms_Irr']\n",
    "    df_clean = df_clean.drop(['Wms_Irr'], axis=1)\n",
    "    \n",
    "    agg_functions = {'Date_Hour_Quarter_Inv': 'first', \n",
    "                     'Inv_Temp': 'mean',\n",
    "                     'Wms_Irr_Min': 'min',\n",
    "                     'Wms_Irr_Max': 'max',                 \n",
    "                     'Wms_Temp': 'mean',\n",
    "                     'Today_Energy': 'min',\n",
    "                     'Today_Energy_Copy': 'max',\n",
    "                     'Total_Energy': 'max',}\n",
    "    #create new DataFrame by combining rows with same id values\n",
    "    df_clean = df_clean.groupby(df_clean['Date_Hour_Quarter_Inv']).aggregate(agg_functions)   \n",
    "    df_clean['Quarter_Energy'] = df_clean['Today_Energy_Copy'] - df_clean['Today_Energy']\n",
    "    df_clean = df_clean.drop(['Today_Energy', 'Today_Energy_Copy'], axis=1)\n",
    "    df_clean['Date'] = df_clean['Date_Hour_Quarter_Inv'].str.split('_').str[0]\n",
    "    df_clean['Hour'] = df_clean['Date_Hour_Quarter_Inv'].str.split('_').str[1]    \n",
    "    df_clean['Quarter'] = df_clean['Date_Hour_Quarter_Inv'].str.split('_').str[2]\n",
    "    df_clean['Inverter'] = df_clean['Date_Hour_Quarter_Inv'].str.split('_').str[3]\n",
    "    df_clean = df_clean.drop(['Date_Hour_Quarter_Inv'], axis=1)   \n",
    "    \n",
    "    df_clean['random'] = random.uniform(0, 1)\n",
    "    df_clean.loc[:, 'random'] = df_clean.random.apply(lambda x:  random.uniform(0.5, 1.5)) \n",
    "    df_clean['Predict_Quarter_Energy'] = df_clean['Quarter_Energy']*df_clean['random']\n",
    "    df_clean = df_clean.drop(['random'], axis=1)    \n",
    "    \n",
    "    return df_clean.to_csv(cleanFilesPath+'dashboardData_' + str(year)+'.csv', index=False)\n",
    "#     return df_clean"
   ]
  },
  {
   "cell_type": "code",
   "execution_count": 12,
   "id": "9f29f51e",
   "metadata": {},
   "outputs": [],
   "source": [
    "dashboardData(2020)"
   ]
  },
  {
   "cell_type": "code",
   "execution_count": 13,
   "id": "b123c6ce",
   "metadata": {},
   "outputs": [],
   "source": [
    "dashboardData(2021)"
   ]
  },
  {
   "cell_type": "code",
   "execution_count": null,
   "id": "afe5d628",
   "metadata": {},
   "outputs": [],
   "source": []
  },
  {
   "cell_type": "code",
   "execution_count": 14,
   "id": "2f7d23bc",
   "metadata": {
    "scrolled": false
   },
   "outputs": [],
   "source": [
    "# plt.rcParams['figure.figsize'] = (10, 4)\n",
    "# sns.boxplot(files(2020,'inv02')['Today_Energy'], palette=\"Set1\");\n",
    "# plt.title('Boxplot for Today_Energy', fontsize = 15)\n",
    "# plt.xlabel('Energy (MWh)')\n",
    "# plt.show();"
   ]
  },
  {
   "cell_type": "code",
   "execution_count": 15,
   "id": "9b1115c1",
   "metadata": {},
   "outputs": [],
   "source": [
    "# plt.rcParams['figure.figsize'] = (10, 4)\n",
    "# sns.boxplot(files(2020,'inv02')['Total_Energy'], palette=\"Set1\");\n",
    "# plt.title('Boxplot for Total_Energy', fontsize = 15)\n",
    "# plt.xlabel('Energy (MWh)')\n",
    "# plt.show();"
   ]
  },
  {
   "cell_type": "code",
   "execution_count": 16,
   "id": "6d5a1e8d",
   "metadata": {},
   "outputs": [],
   "source": [
    "# plt.rcParams['figure.figsize'] = (10, 4)\n",
    "# sns.boxplot(files(2020,'inv02')['Inv_Temp'], palette=\"Set1\");\n",
    "# plt.title('Boxplot for Inv_Temp', fontsize = 15)\n",
    "# plt.xlabel('C')\n",
    "# plt.show();"
   ]
  },
  {
   "cell_type": "code",
   "execution_count": 17,
   "id": "1c4d3029",
   "metadata": {},
   "outputs": [],
   "source": [
    "# plt.rcParams['figure.figsize'] = (10, 4)\n",
    "# sns.boxplot(files(2020,'inv02')['Wms_Temp'], palette=\"Set1\");\n",
    "# plt.title('Boxplot for Wms_Temp', fontsize = 15)\n",
    "# plt.xlabel('C')\n",
    "# plt.show();"
   ]
  },
  {
   "cell_type": "code",
   "execution_count": 18,
   "id": "6a6bc31d",
   "metadata": {},
   "outputs": [],
   "source": [
    "# plt.rcParams['figure.figsize'] = (10, 4)\n",
    "# sns.boxplot(files(2020,'inv02')['Wms_Irr'], palette=\"Set1\");\n",
    "# plt.title('Boxplot for Wms_Irr', fontsize = 15)\n",
    "# plt.xlabel('W/m^2')\n",
    "# plt.show();"
   ]
  },
  {
   "cell_type": "code",
   "execution_count": null,
   "id": "6313a427",
   "metadata": {},
   "outputs": [],
   "source": []
  }
 ],
 "metadata": {
  "kernelspec": {
   "display_name": "Python 3 (ipykernel)",
   "language": "python",
   "name": "python3"
  },
  "language_info": {
   "codemirror_mode": {
    "name": "ipython",
    "version": 3
   },
   "file_extension": ".py",
   "mimetype": "text/x-python",
   "name": "python",
   "nbconvert_exporter": "python",
   "pygments_lexer": "ipython3",
   "version": "3.9.12"
  }
 },
 "nbformat": 4,
 "nbformat_minor": 5
}
