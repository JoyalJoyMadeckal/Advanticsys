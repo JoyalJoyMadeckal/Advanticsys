{
 "cells": [
  {
   "cell_type": "markdown",
   "id": "dea18b10",
   "metadata": {},
   "source": [
    "## Notebook description\n",
    "\n",
    "This notebook will load the model and make the predictions for the period of december 2021 for all the invertes and convert to a sutable csv file which will be used for the Tableau report creation"
   ]
  },
  {
   "cell_type": "code",
   "execution_count": 1,
   "id": "fe6b9afc",
   "metadata": {},
   "outputs": [],
   "source": [
    "import tensorflow\n",
    "import pandas as pd\n",
    "\n",
    "import warnings\n",
    "warnings.filterwarnings('ignore')"
   ]
  },
  {
   "cell_type": "code",
   "execution_count": 2,
   "id": "26903812",
   "metadata": {},
   "outputs": [
    {
     "data": {
      "text/html": [
       "<div>\n",
       "<style scoped>\n",
       "    .dataframe tbody tr th:only-of-type {\n",
       "        vertical-align: middle;\n",
       "    }\n",
       "\n",
       "    .dataframe tbody tr th {\n",
       "        vertical-align: top;\n",
       "    }\n",
       "\n",
       "    .dataframe thead th {\n",
       "        text-align: right;\n",
       "    }\n",
       "</style>\n",
       "<table border=\"1\" class=\"dataframe\">\n",
       "  <thead>\n",
       "    <tr style=\"text-align: right;\">\n",
       "      <th></th>\n",
       "      <th>Date</th>\n",
       "      <th>Timestamp</th>\n",
       "      <th>Inverter</th>\n",
       "      <th>Energy</th>\n",
       "      <th>Total_Energy</th>\n",
       "      <th>Inv_Temp</th>\n",
       "      <th>Wms_Temp</th>\n",
       "      <th>Wms_Irr</th>\n",
       "    </tr>\n",
       "  </thead>\n",
       "  <tbody>\n",
       "    <tr>\n",
       "      <th>0</th>\n",
       "      <td>2021-01-01 07:25:00</td>\n",
       "      <td>1609466100000</td>\n",
       "      <td>Inv01</td>\n",
       "      <td>1.0</td>\n",
       "      <td>69999.0</td>\n",
       "      <td>35.1</td>\n",
       "      <td>17.5</td>\n",
       "      <td>107.0</td>\n",
       "    </tr>\n",
       "    <tr>\n",
       "      <th>1</th>\n",
       "      <td>2021-01-01 07:26:00</td>\n",
       "      <td>1609466160000</td>\n",
       "      <td>Inv01</td>\n",
       "      <td>1.0</td>\n",
       "      <td>69999.0</td>\n",
       "      <td>35.2</td>\n",
       "      <td>17.6</td>\n",
       "      <td>109.0</td>\n",
       "    </tr>\n",
       "    <tr>\n",
       "      <th>2</th>\n",
       "      <td>2021-01-01 07:27:00</td>\n",
       "      <td>1609466220000</td>\n",
       "      <td>Inv01</td>\n",
       "      <td>1.0</td>\n",
       "      <td>69999.0</td>\n",
       "      <td>35.3</td>\n",
       "      <td>17.7</td>\n",
       "      <td>112.0</td>\n",
       "    </tr>\n",
       "    <tr>\n",
       "      <th>3</th>\n",
       "      <td>2021-01-01 07:28:00</td>\n",
       "      <td>1609466280000</td>\n",
       "      <td>Inv01</td>\n",
       "      <td>1.0</td>\n",
       "      <td>70000.0</td>\n",
       "      <td>35.4</td>\n",
       "      <td>17.8</td>\n",
       "      <td>113.0</td>\n",
       "    </tr>\n",
       "    <tr>\n",
       "      <th>4</th>\n",
       "      <td>2021-01-01 07:29:00</td>\n",
       "      <td>1609466340000</td>\n",
       "      <td>Inv01</td>\n",
       "      <td>1.0</td>\n",
       "      <td>70000.0</td>\n",
       "      <td>35.6</td>\n",
       "      <td>17.8</td>\n",
       "      <td>114.0</td>\n",
       "    </tr>\n",
       "  </tbody>\n",
       "</table>\n",
       "</div>"
      ],
      "text/plain": [
       "                  Date      Timestamp Inverter  Energy  Total_Energy  \\\n",
       "0  2021-01-01 07:25:00  1609466100000    Inv01     1.0       69999.0   \n",
       "1  2021-01-01 07:26:00  1609466160000    Inv01     1.0       69999.0   \n",
       "2  2021-01-01 07:27:00  1609466220000    Inv01     1.0       69999.0   \n",
       "3  2021-01-01 07:28:00  1609466280000    Inv01     1.0       70000.0   \n",
       "4  2021-01-01 07:29:00  1609466340000    Inv01     1.0       70000.0   \n",
       "\n",
       "   Inv_Temp  Wms_Temp  Wms_Irr  \n",
       "0      35.1      17.5    107.0  \n",
       "1      35.2      17.6    109.0  \n",
       "2      35.3      17.7    112.0  \n",
       "3      35.4      17.8    113.0  \n",
       "4      35.6      17.8    114.0  "
      ]
     },
     "execution_count": 2,
     "metadata": {},
     "output_type": "execute_result"
    }
   ],
   "source": [
    "data_2021 = pd.read_csv(\"Data_Clean/2021_clean_data_by_minute_for_prediction.csv\")\n",
    "data_2021.head()"
   ]
  },
  {
   "cell_type": "code",
   "execution_count": 3,
   "id": "04703721",
   "metadata": {},
   "outputs": [],
   "source": [
    "features_reqd = ['Date', 'Timestamp', 'Inv_Temp', 'Wms_Temp', 'Wms_Irr', 'Energy']"
   ]
  },
  {
   "cell_type": "code",
   "execution_count": 4,
   "id": "70088040",
   "metadata": {},
   "outputs": [],
   "source": [
    "inv01_2021 = data_2021[data_2021.Inverter == 'Inv01']\n",
    "inv02_2021 = data_2021[data_2021.Inverter == 'Inv02']\n",
    "inv03_2021 = data_2021[data_2021.Inverter == 'Inv03']\n",
    "inv04_2021 = data_2021[data_2021.Inverter == 'Inv04']\n",
    "inv05_2021 = data_2021[data_2021.Inverter == 'Inv05']\n",
    "inv06_2021 = data_2021[data_2021.Inverter == 'Inv06']\n",
    "inv07_2021 = data_2021[data_2021.Inverter == 'Inv07']\n",
    "inv08_2021 = data_2021[data_2021.Inverter == 'Inv08']\n",
    "inv09_2021 = data_2021[data_2021.Inverter == 'Inv09']\n",
    "inv10_2021 = data_2021[data_2021.Inverter == 'Inv10']"
   ]
  },
  {
   "cell_type": "code",
   "execution_count": 5,
   "id": "bf3d2eaf",
   "metadata": {},
   "outputs": [],
   "source": [
    "def form_predictions_df(df, dnn_model, date):\n",
    "    condition_for_prediction_data = (df.Date >= date)\n",
    "    prediction_df = df[condition_for_prediction_data]\n",
    "    predictions = dnn_model.predict(prediction_df[features_reqd[2:-1]])\n",
    "    prediction_df.loc[:, 'predictions'] = predictions\n",
    "    return prediction_df[['Timestamp', 'predictions', 'Inverter']]"
   ]
  },
  {
   "cell_type": "code",
   "execution_count": 6,
   "id": "0aec6f17",
   "metadata": {},
   "outputs": [
    {
     "name": "stdout",
     "output_type": "stream",
     "text": [
      "402/402 [==============================] - 1s 3ms/step\n",
      "395/395 [==============================] - 1s 3ms/step\n",
      "415/415 [==============================] - 1s 2ms/step\n",
      "346/346 [==============================] - 1s 2ms/step\n",
      "370/370 [==============================] - 1s 2ms/step\n",
      "412/412 [==============================] - 1s 2ms/step\n",
      "379/379 [==============================] - 1s 2ms/step\n",
      "402/402 [==============================] - 1s 2ms/step\n",
      "354/354 [==============================] - 1s 2ms/step\n",
      "372/372 [==============================] - 1s 2ms/step\n"
     ]
    }
   ],
   "source": [
    "# Inverter 01\n",
    "model_inv01 = tensorflow.keras.models.load_model('dnn_model_inv01_5')\n",
    "prediction_df_1 = form_predictions_df(inv01_2021, model_inv01, \"2021-12-01\")\n",
    "\n",
    "# Inverter 02\n",
    "model_inv02 = tensorflow.keras.models.load_model('dnn_model_inv02_5')\n",
    "prediction_df_2 = form_predictions_df(inv02_2021, model_inv02, \"2021-12-01\")\n",
    "\n",
    "# Inverter 03\n",
    "model_inv03 = tensorflow.keras.models.load_model('dnn_model_inv03_5')\n",
    "prediction_df_3 = form_predictions_df(inv03_2021, model_inv03, \"2021-12-01\")\n",
    "\n",
    "# Inverter 04\n",
    "model_inv04 = tensorflow.keras.models.load_model('dnn_model_inv04_5')\n",
    "prediction_df_4 = form_predictions_df(inv04_2021, model_inv04, \"2021-12-01\")\n",
    "\n",
    "# Inverter 05\n",
    "model_inv05 = tensorflow.keras.models.load_model('dnn_model_inv05_5')\n",
    "prediction_df_5 = form_predictions_df(inv05_2021, model_inv05, \"2021-12-01\")\n",
    "\n",
    "# Inverter 06\n",
    "model_inv06 = tensorflow.keras.models.load_model('dnn_model_inv06_5')\n",
    "prediction_df_6 = form_predictions_df(inv06_2021, model_inv06, \"2021-12-01\")\n",
    "\n",
    "# Inverter 07\n",
    "model_inv07 = tensorflow.keras.models.load_model('dnn_model_inv07_5')\n",
    "prediction_df_7 = form_predictions_df(inv07_2021, model_inv07, \"2021-12-01\")\n",
    "\n",
    "# Inverter 08\n",
    "model_inv08 = tensorflow.keras.models.load_model('dnn_model_inv08_5')\n",
    "prediction_df_8 = form_predictions_df(inv08_2021, model_inv08, \"2021-12-01\")\n",
    "\n",
    "# Inverter 09\n",
    "model_inv09 = tensorflow.keras.models.load_model('dnn_model_inv09_5')\n",
    "prediction_df_9 = form_predictions_df(inv09_2021, model_inv09, \"2021-12-01\")\n",
    "\n",
    "# Inverter 10\n",
    "model_inv10 = tensorflow.keras.models.load_model('dnn_model_inv10_5')\n",
    "prediction_df_10 = form_predictions_df(inv10_2021, model_inv10, \"2021-12-01\")"
   ]
  },
  {
   "cell_type": "code",
   "execution_count": 7,
   "id": "2cf959b8",
   "metadata": {},
   "outputs": [
    {
     "data": {
      "text/html": [
       "<div>\n",
       "<style scoped>\n",
       "    .dataframe tbody tr th:only-of-type {\n",
       "        vertical-align: middle;\n",
       "    }\n",
       "\n",
       "    .dataframe tbody tr th {\n",
       "        vertical-align: top;\n",
       "    }\n",
       "\n",
       "    .dataframe thead th {\n",
       "        text-align: right;\n",
       "    }\n",
       "</style>\n",
       "<table border=\"1\" class=\"dataframe\">\n",
       "  <thead>\n",
       "    <tr style=\"text-align: right;\">\n",
       "      <th></th>\n",
       "      <th>Timestamp</th>\n",
       "      <th>Prediction</th>\n",
       "      <th>Inverter</th>\n",
       "    </tr>\n",
       "  </thead>\n",
       "  <tbody>\n",
       "    <tr>\n",
       "      <th>166200</th>\n",
       "      <td>1638326160000</td>\n",
       "      <td>0.956806</td>\n",
       "      <td>Inv01</td>\n",
       "    </tr>\n",
       "    <tr>\n",
       "      <th>166201</th>\n",
       "      <td>1638327180000</td>\n",
       "      <td>0.840254</td>\n",
       "      <td>Inv01</td>\n",
       "    </tr>\n",
       "    <tr>\n",
       "      <th>166202</th>\n",
       "      <td>1638327240000</td>\n",
       "      <td>1.003176</td>\n",
       "      <td>Inv01</td>\n",
       "    </tr>\n",
       "    <tr>\n",
       "      <th>166203</th>\n",
       "      <td>1638327300000</td>\n",
       "      <td>1.002867</td>\n",
       "      <td>Inv01</td>\n",
       "    </tr>\n",
       "    <tr>\n",
       "      <th>166204</th>\n",
       "      <td>1638327480000</td>\n",
       "      <td>0.623461</td>\n",
       "      <td>Inv01</td>\n",
       "    </tr>\n",
       "  </tbody>\n",
       "</table>\n",
       "</div>"
      ],
      "text/plain": [
       "            Timestamp  Prediction Inverter\n",
       "166200  1638326160000    0.956806    Inv01\n",
       "166201  1638327180000    0.840254    Inv01\n",
       "166202  1638327240000    1.003176    Inv01\n",
       "166203  1638327300000    1.002867    Inv01\n",
       "166204  1638327480000    0.623461    Inv01"
      ]
     },
     "execution_count": 7,
     "metadata": {},
     "output_type": "execute_result"
    }
   ],
   "source": [
    "all_predictions = pd.concat([prediction_df_1, prediction_df_2, prediction_df_3, prediction_df_4, prediction_df_5, prediction_df_6, prediction_df_7, \n",
    "          prediction_df_8, prediction_df_9, prediction_df_10])\n",
    "all_predictions.rename(columns={'predictions':'Prediction', 'Inverter': 'Inverter'}, inplace=True)\n",
    "all_predictions.head()"
   ]
  },
  {
   "cell_type": "code",
   "execution_count": 8,
   "id": "69fd2e81",
   "metadata": {},
   "outputs": [],
   "source": [
    "all_predictions.to_csv(\"Data_Predictions/energy_prediction.csv\", index=False)"
   ]
  }
 ],
 "metadata": {
  "kernelspec": {
   "display_name": "Python 3 (ipykernel)",
   "language": "python",
   "name": "python3"
  },
  "language_info": {
   "codemirror_mode": {
    "name": "ipython",
    "version": 3
   },
   "file_extension": ".py",
   "mimetype": "text/x-python",
   "name": "python",
   "nbconvert_exporter": "python",
   "pygments_lexer": "ipython3",
   "version": "3.9.12"
  }
 },
 "nbformat": 4,
 "nbformat_minor": 5
}
