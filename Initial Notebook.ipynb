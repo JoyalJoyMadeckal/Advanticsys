{
 "cells": [
  {
   "cell_type": "code",
   "execution_count": 1,
   "id": "af7177bc",
   "metadata": {},
   "outputs": [],
   "source": [
    "import pandas as pd\n",
    "import os\n",
    "import re\n",
    "from datetime import datetime\n",
    "import seaborn as sns\n",
    "import matplotlib.pyplot as plt\n",
    "import itertools\n",
    "import shutil"
   ]
  },
  {
   "cell_type": "code",
   "execution_count": 2,
   "id": "b318d937",
   "metadata": {},
   "outputs": [
    {
     "data": {
      "text/html": [
       "<div>\n",
       "<style scoped>\n",
       "    .dataframe tbody tr th:only-of-type {\n",
       "        vertical-align: middle;\n",
       "    }\n",
       "\n",
       "    .dataframe tbody tr th {\n",
       "        vertical-align: top;\n",
       "    }\n",
       "\n",
       "    .dataframe thead th {\n",
       "        text-align: right;\n",
       "    }\n",
       "</style>\n",
       "<table border=\"1\" class=\"dataframe\">\n",
       "  <thead>\n",
       "    <tr style=\"text-align: right;\">\n",
       "      <th></th>\n",
       "      <th>Date</th>\n",
       "      <th>Timestamp</th>\n",
       "      <th>Value</th>\n",
       "      <th>Signal</th>\n",
       "    </tr>\n",
       "  </thead>\n",
       "  <tbody>\n",
       "    <tr>\n",
       "      <th>0</th>\n",
       "      <td>2019-10-30 16:33:00</td>\n",
       "      <td>1572433380000</td>\n",
       "      <td>0</td>\n",
       "      <td>Inv01_Today_Energy</td>\n",
       "    </tr>\n",
       "    <tr>\n",
       "      <th>1</th>\n",
       "      <td>2019-10-30 16:34:00</td>\n",
       "      <td>1572433440000</td>\n",
       "      <td>0</td>\n",
       "      <td>Inv01_Today_Energy</td>\n",
       "    </tr>\n",
       "    <tr>\n",
       "      <th>2</th>\n",
       "      <td>2019-10-30 16:35:00</td>\n",
       "      <td>1572433500000</td>\n",
       "      <td>1750</td>\n",
       "      <td>Inv01_Today_Energy</td>\n",
       "    </tr>\n",
       "    <tr>\n",
       "      <th>3</th>\n",
       "      <td>2019-10-30 16:36:00</td>\n",
       "      <td>1572433560000</td>\n",
       "      <td>1751</td>\n",
       "      <td>Inv01_Today_Energy</td>\n",
       "    </tr>\n",
       "    <tr>\n",
       "      <th>4</th>\n",
       "      <td>2019-10-30 16:37:00</td>\n",
       "      <td>1572433620000</td>\n",
       "      <td>1752</td>\n",
       "      <td>Inv01_Today_Energy</td>\n",
       "    </tr>\n",
       "  </tbody>\n",
       "</table>\n",
       "</div>"
      ],
      "text/plain": [
       "                  Date      Timestamp  Value              Signal\n",
       "0  2019-10-30 16:33:00  1572433380000      0  Inv01_Today_Energy\n",
       "1  2019-10-30 16:34:00  1572433440000      0  Inv01_Today_Energy\n",
       "2  2019-10-30 16:35:00  1572433500000   1750  Inv01_Today_Energy\n",
       "3  2019-10-30 16:36:00  1572433560000   1751  Inv01_Today_Energy\n",
       "4  2019-10-30 16:37:00  1572433620000   1752  Inv01_Today_Energy"
      ]
     },
     "execution_count": 2,
     "metadata": {},
     "output_type": "execute_result"
    }
   ],
   "source": [
    "data = pd.read_csv(\"Data/2019/1678982456718_index_3852_inv01_today_energy_data.csv\", delimiter=\";\")\n",
    "data.head()"
   ]
  },
  {
   "cell_type": "code",
   "execution_count": 3,
   "id": "23f60626",
   "metadata": {},
   "outputs": [
    {
     "data": {
      "text/plain": [
       "(28639, 4)"
      ]
     },
     "execution_count": 3,
     "metadata": {},
     "output_type": "execute_result"
    }
   ],
   "source": [
    "data.shape"
   ]
  },
  {
   "cell_type": "code",
   "execution_count": 8,
   "id": "02021b32",
   "metadata": {},
   "outputs": [
    {
     "data": {
      "text/plain": [
       "28639"
      ]
     },
     "execution_count": 8,
     "metadata": {},
     "output_type": "execute_result"
    }
   ],
   "source": [
    "data.Date.nunique()"
   ]
  },
  {
   "cell_type": "code",
   "execution_count": 16,
   "id": "045ad97c",
   "metadata": {},
   "outputs": [],
   "source": [
    "file_names = os.listdir(\"Data/All Data/2021/\")"
   ]
  },
  {
   "cell_type": "code",
   "execution_count": 17,
   "id": "97a41df1",
   "metadata": {},
   "outputs": [],
   "source": [
    "id_variables = [re.match(\"\\d+_index_\\d+_([^_]+)_([^.]+)\", file_name).groups() for file_name in file_names]"
   ]
  },
  {
   "cell_type": "code",
   "execution_count": 18,
   "id": "d7bb53cd",
   "metadata": {},
   "outputs": [
    {
     "data": {
      "text/plain": [
       "{'inv01': ['today_energy_data',\n",
       "  'total_energy_data',\n",
       "  'total_run_data',\n",
       "  'temp_data',\n",
       "  'dc1_volt_data',\n",
       "  'dc1_amps_data',\n",
       "  'dc_power_data',\n",
       "  'r_volt_data',\n",
       "  'y_volt_data',\n",
       "  'b_volt_data',\n",
       "  'r_amps_data',\n",
       "  'y_amps_data',\n",
       "  'b_amps_data',\n",
       "  'act_power_data',\n",
       "  'pf_data',\n",
       "  'freq_data',\n",
       "  'status_data',\n",
       "  'fault_code_data',\n",
       "  'today_run_data',\n",
       "  'dc01_amps_data',\n",
       "  'dc02_amps_data',\n",
       "  'dc03_amps_data',\n",
       "  'dc04_amps_data',\n",
       "  'dc05_amps_data',\n",
       "  'dc06_amps_data',\n",
       "  'dc07_amps_data',\n",
       "  'dc08_amps_data',\n",
       "  'dc09_amps_data',\n",
       "  'dc10_amps_data'],\n",
       " 'inv02': ['today_energy_data',\n",
       "  'total_energy_data',\n",
       "  'total_run_data',\n",
       "  'temp_data',\n",
       "  'dc1_volt_data',\n",
       "  'dc1_amps_data',\n",
       "  'dc_power_data',\n",
       "  'r_volt_data',\n",
       "  'y_volt_data',\n",
       "  'b_volt_data',\n",
       "  'r_amps_data',\n",
       "  'y_amps_data',\n",
       "  'b_amps_data',\n",
       "  'act_power_data',\n",
       "  'pf_data',\n",
       "  'freq_data',\n",
       "  'status_data',\n",
       "  'fault_code_data',\n",
       "  'today_run_data',\n",
       "  'dc01_amps_data',\n",
       "  'dc02_amps_data',\n",
       "  'dc03_amps_data',\n",
       "  'dc04_amps_data',\n",
       "  'dc05_amps_data',\n",
       "  'dc06_amps_data',\n",
       "  'dc07_amps_data',\n",
       "  'dc08_amps_data',\n",
       "  'dc09_amps_data'],\n",
       " 'inv03': ['today_energy_data',\n",
       "  'total_energy_data',\n",
       "  'total_run_data',\n",
       "  'temp_data',\n",
       "  'dc1_volt_data',\n",
       "  'dc1_amps_data',\n",
       "  'dc_power_data',\n",
       "  'r_volt_data',\n",
       "  'y_volt_data',\n",
       "  'b_volt_data',\n",
       "  'r_amps_data',\n",
       "  'y_amps_data',\n",
       "  'b_amps_data',\n",
       "  'act_power_data',\n",
       "  'pf_data',\n",
       "  'freq_data',\n",
       "  'status_data',\n",
       "  'fault_code_data',\n",
       "  'today_run_data',\n",
       "  'dc01_amps_data',\n",
       "  'dc02_amps_data',\n",
       "  'dc03_amps_data',\n",
       "  'dc04_amps_data',\n",
       "  'dc05_amps_data',\n",
       "  'dc06_amps_data',\n",
       "  'dc07_amps_data',\n",
       "  'dc08_amps_data',\n",
       "  'dc09_amps_data',\n",
       "  'dc10_amps_data',\n",
       "  'dc11_amps_data'],\n",
       " 'inv04': ['today_energy_data',\n",
       "  'total_energy_data',\n",
       "  'total_run_data',\n",
       "  'temp_data',\n",
       "  'dc1_volt_data',\n",
       "  'dc1_amps_data',\n",
       "  'dc2_volt_data',\n",
       "  'dc2_amps_data',\n",
       "  'dc3_volt_data',\n",
       "  'dc3_amps_data',\n",
       "  'dc_power_data',\n",
       "  'r_volt_data',\n",
       "  'y_volt_data',\n",
       "  'b_volt_data',\n",
       "  'r_amps_data',\n",
       "  'y_amps_data',\n",
       "  'b_amps_data',\n",
       "  'act_power_data',\n",
       "  'pf_data',\n",
       "  'freq_data',\n",
       "  'status_data',\n",
       "  'fault_code_data',\n",
       "  'today_run_data',\n",
       "  'dc1-1_amps_data',\n",
       "  'dc1-2_amps_data',\n",
       "  'dc2-1_amps_data',\n",
       "  'dc2-2_amps_data',\n",
       "  'dc3-1_amps_data'],\n",
       " 'inv05': ['today_energy_data',\n",
       "  'total_energy_data',\n",
       "  'total_run_data',\n",
       "  'temp_data',\n",
       "  'dc1_volt_data',\n",
       "  'dc1_amps_data',\n",
       "  'dc2_volt_data',\n",
       "  'dc2_amps_data',\n",
       "  'dc3_volt_data',\n",
       "  'dc3_amps_data',\n",
       "  'dc_power_data',\n",
       "  'r_volt_data',\n",
       "  'y_volt_data',\n",
       "  'b_volt_data',\n",
       "  'r_amps_data',\n",
       "  'y_amps_data',\n",
       "  'b_amps_data',\n",
       "  'act_power_data',\n",
       "  'pf_data',\n",
       "  'freq_data',\n",
       "  'status_data',\n",
       "  'fault_code_data',\n",
       "  'today_run_data',\n",
       "  'dc1-1_amps_data',\n",
       "  'dc1-2_amps_data',\n",
       "  'dc2-1_amps_data',\n",
       "  'dc2-2_amps_data',\n",
       "  'dc3-1_amps_data',\n",
       "  'dc3-2_amps_data'],\n",
       " 'mfm01': ['r_amps_data',\n",
       "  'y_amps_data',\n",
       "  'b_amps_data',\n",
       "  'avg_amps_data',\n",
       "  'ry_volt_data',\n",
       "  'yb_volt_data',\n",
       "  'br_volt_data',\n",
       "  'avg_ll_volt_data',\n",
       "  'r_volt_data',\n",
       "  'y_volt_data',\n",
       "  'b_volt_data',\n",
       "  'avg_ln_volt_data',\n",
       "  'act_power_data',\n",
       "  'react_power_data',\n",
       "  'pf_data',\n",
       "  'freq_data',\n",
       "  'export_energy_data',\n",
       "  'import_energy_data'],\n",
       " 'wms01': ['irradiance_data', 'temp_data'],\n",
       " 'inv06': ['today_energy_data',\n",
       "  'total_energy_data',\n",
       "  'total_run_data',\n",
       "  'temp_data',\n",
       "  'dc1_volt_data',\n",
       "  'dc1_amps_data',\n",
       "  'dc_power_data',\n",
       "  'r_volt_data',\n",
       "  'y_volt_data',\n",
       "  'b_volt_data',\n",
       "  'r_amps_data',\n",
       "  'y_amps_data',\n",
       "  'b_amps_data',\n",
       "  'act_power_data',\n",
       "  'pf_data',\n",
       "  'freq_data',\n",
       "  'status_data',\n",
       "  'fault_code_data',\n",
       "  'today_run_data',\n",
       "  'dc01_amps_data',\n",
       "  'dc02_amps_data',\n",
       "  'dc03_amps_data',\n",
       "  'dc04_amps_data',\n",
       "  'dc05_amps_data',\n",
       "  'dc06_amps_data',\n",
       "  'dc07_amps_data',\n",
       "  'dc08_amps_data',\n",
       "  'dc09_amps_data',\n",
       "  'dc10_amps_data',\n",
       "  'dc11_amps_data',\n",
       "  'dc12_amps_data'],\n",
       " 'inv07': ['today_energy_data',\n",
       "  'total_energy_data',\n",
       "  'total_run_data',\n",
       "  'temp_data',\n",
       "  'dc1_volt_data',\n",
       "  'dc1_amps_data',\n",
       "  'dc_power_data',\n",
       "  'r_volt_data',\n",
       "  'y_volt_data',\n",
       "  'b_volt_data',\n",
       "  'r_amps_data',\n",
       "  'y_amps_data',\n",
       "  'b_amps_data',\n",
       "  'act_power_data',\n",
       "  'pf_data',\n",
       "  'freq_data',\n",
       "  'status_data',\n",
       "  'fault_code_data',\n",
       "  'today_run_data',\n",
       "  'dc01_amps_data',\n",
       "  'dc02_amps_data',\n",
       "  'dc03_amps_data',\n",
       "  'dc04_amps_data',\n",
       "  'dc05_amps_data',\n",
       "  'dc06_amps_data',\n",
       "  'dc07_amps_data',\n",
       "  'dc08_amps_data',\n",
       "  'dc09_amps_data',\n",
       "  'dc10_amps_data',\n",
       "  'dc11_amps_data',\n",
       "  'dc12_amps_data'],\n",
       " 'inv08': ['today_energy_data',\n",
       "  'total_energy_data',\n",
       "  'total_run_data',\n",
       "  'temp_data',\n",
       "  'dc1_volt_data',\n",
       "  'dc1_amps_data',\n",
       "  'dc_power_data',\n",
       "  'r_volt_data',\n",
       "  'y_volt_data',\n",
       "  'b_volt_data',\n",
       "  'r_amps_data',\n",
       "  'y_amps_data',\n",
       "  'b_amps_data',\n",
       "  'act_power_data',\n",
       "  'pf_data',\n",
       "  'freq_data',\n",
       "  'status_data',\n",
       "  'fault_code_data',\n",
       "  'today_run_data',\n",
       "  'dc01_amps_data',\n",
       "  'dc02_amps_data',\n",
       "  'dc03_amps_data',\n",
       "  'dc04_amps_data',\n",
       "  'dc05_amps_data',\n",
       "  'dc06_amps_data',\n",
       "  'dc07_amps_data',\n",
       "  'dc08_amps_data',\n",
       "  'dc09_amps_data',\n",
       "  'dc10_amps_data',\n",
       "  'dc11_amps_data',\n",
       "  'dc12_amps_data'],\n",
       " 'inv09': ['today_energy_data',\n",
       "  'total_energy_data',\n",
       "  'total_run_data',\n",
       "  'temp_data',\n",
       "  'dc1_volt_data',\n",
       "  'dc1_amps_data',\n",
       "  'dc2_volt_data',\n",
       "  'dc2_amps_data',\n",
       "  'dc3_volt_data',\n",
       "  'dc3_amps_data',\n",
       "  'dc_power_data',\n",
       "  'r_volt_data',\n",
       "  'y_volt_data',\n",
       "  'b_volt_data',\n",
       "  'r_amps_data',\n",
       "  'y_amps_data',\n",
       "  'b_amps_data',\n",
       "  'act_power_data',\n",
       "  'pf_data',\n",
       "  'freq_data',\n",
       "  'status_data',\n",
       "  'fault_code_data',\n",
       "  'today_run_data',\n",
       "  'dc1-1_amps_data',\n",
       "  'dc1-2_amps_data',\n",
       "  'dc2-1_amps_data',\n",
       "  'dc2-2_amps_data',\n",
       "  'dc3-1_amps_data',\n",
       "  'dc3-2_amps_data'],\n",
       " 'inv10': ['today_energy_data',\n",
       "  'total_energy_data',\n",
       "  'total_run_data',\n",
       "  'temp_data',\n",
       "  'dc1_volt_data',\n",
       "  'dc1_amps_data',\n",
       "  'dc2_volt_data',\n",
       "  'dc2_amps_data',\n",
       "  'dc3_volt_data',\n",
       "  'dc3_amps_data',\n",
       "  'dc_power_data',\n",
       "  'r_volt_data',\n",
       "  'y_volt_data',\n",
       "  'b_volt_data',\n",
       "  'r_amps_data',\n",
       "  'y_amps_data',\n",
       "  'b_amps_data',\n",
       "  'act_power_data',\n",
       "  'pf_data',\n",
       "  'freq_data',\n",
       "  'status_data',\n",
       "  'fault_code_data',\n",
       "  'today_run_data',\n",
       "  'dc1-1_amps_data',\n",
       "  'dc1-2_amps_data',\n",
       "  'dc1-3_amps_data',\n",
       "  'dc2-1_amps_data',\n",
       "  'dc2-2_amps_data',\n",
       "  'dc3-1_amps_data',\n",
       "  'dc3-2_amps_data'],\n",
       " 'mfm02': ['r_amps_data',\n",
       "  'y_amps_data',\n",
       "  'b_amps_data',\n",
       "  'avg_amps_data',\n",
       "  'ry_volt_data',\n",
       "  'yb_volt_data',\n",
       "  'br_volt_data',\n",
       "  'avg_ll_volt_data',\n",
       "  'r_volt_data',\n",
       "  'y_volt_data',\n",
       "  'b_volt_data',\n",
       "  'avg_ln_volt_data',\n",
       "  'act_power_data',\n",
       "  'react_power_data',\n",
       "  'pf_data',\n",
       "  'freq_data',\n",
       "  'export_energy_data',\n",
       "  'import_energy_data'],\n",
       " 'wms02': ['irradiance_data', 'temp_data']}"
      ]
     },
     "execution_count": 18,
     "metadata": {},
     "output_type": "execute_result"
    }
   ],
   "source": [
    "grouped_items = {}\n",
    "for item in id_variables:\n",
    "    if item[0] in grouped_items.keys():\n",
    "        grouped_items[item[0]].append(item[1])\n",
    "    else:\n",
    "        grouped_items.update({item[0]:[item[1]]})\n",
    "grouped_items"
   ]
  },
  {
   "cell_type": "code",
   "execution_count": 19,
   "id": "8c7482f8",
   "metadata": {},
   "outputs": [
    {
     "data": {
      "text/plain": [
       "'today_energy_data, total_run_data, today_run_data, total_energy_data, temp_data, irradiance_data, temp_data'"
      ]
     },
     "execution_count": 19,
     "metadata": {},
     "output_type": "execute_result"
    }
   ],
   "source": [
    "a = ['today_energy_data', 'total_run_data', 'today_run_data', 'total_energy_data', 'temp_data', 'irradiance_data', 'temp_data']\n",
    "', '.join(a)"
   ]
  },
  {
   "cell_type": "code",
   "execution_count": 20,
   "id": "73904a7f",
   "metadata": {},
   "outputs": [],
   "source": [
    "required_file_names = []\n",
    "\n",
    "for i in a:\n",
    "    for file_name in file_names:\n",
    "        if i in file_name:\n",
    "            required_file_names.append(file_name)"
   ]
  },
  {
   "cell_type": "code",
   "execution_count": 21,
   "id": "99f6ff71",
   "metadata": {},
   "outputs": [],
   "source": [
    "for name in required_file_names:\n",
    "    shutil.copy(f\"Data/All Data/2021/{name}\", f\"Data/Required Data Yearwise/2021 Required/{name}\")"
   ]
  },
  {
   "cell_type": "code",
   "execution_count": 23,
   "id": "6648ae31",
   "metadata": {},
   "outputs": [],
   "source": [
    "import pandas as pd\n",
    "import os\n",
    "\n",
    "# Specify the directory containing the Excel files\n",
    "directory = \"Data/Required Data Yearwise/2020 Required\"\n",
    "# Loop over each file in the directory\n",
    "for filename in os.listdir(directory):\n",
    "    filepath = os.path.join(directory, filename) # Get the full filepath\n",
    "\n",
    "    # Read in the Excel file\n",
    "    df = pd.read_csv(filepath, delimiter=\";\")\n",
    "\n",
    "    df.to_csv(filepath, index=False)"
   ]
  },
  {
   "cell_type": "code",
   "execution_count": 24,
   "id": "b3695da2",
   "metadata": {},
   "outputs": [],
   "source": [
    "import pandas as pd\n",
    "import os\n",
    "\n",
    "# Specify the directory containing the Excel files\n",
    "directory = \"Data/Required Data Yearwise/2021 Required\"\n",
    "# Loop over each file in the directory\n",
    "for filename in os.listdir(directory):\n",
    "    filepath = os.path.join(directory, filename) # Get the full filepath\n",
    "\n",
    "    # Read in the Excel file\n",
    "    df = pd.read_csv(filepath, delimiter=\";\")\n",
    "\n",
    "    df.to_csv(filepath, index=False)"
   ]
  },
  {
   "cell_type": "code",
   "execution_count": null,
   "id": "18a66ba6",
   "metadata": {},
   "outputs": [],
   "source": []
  },
  {
   "cell_type": "code",
   "execution_count": 24,
   "id": "1a5ba56c",
   "metadata": {},
   "outputs": [
    {
     "data": {
      "text/plain": [
       "'act_power_data, avg_amps_data, avg_ll_volt_data, avg_ln_volt_data, b_amps_data, b_volt_data, br_volt_data, export_energy_data, freq_data, import_energy_data, pf_data, r_amps_data, r_volt_data, react_power_data, ry_volt_data, y_amps_data, y_volt_data, yb_volt_data'"
      ]
     },
     "execution_count": 24,
     "metadata": {},
     "output_type": "execute_result"
    }
   ],
   "source": [
    "', '.join(sorted(list(set(itertools.chain.from_iterable([grouped_items[j] for j in grouped_items.keys() if 'mfm' in j])))))"
   ]
  },
  {
   "cell_type": "code",
   "execution_count": 16,
   "id": "65b5c893",
   "metadata": {},
   "outputs": [
    {
     "data": {
      "text/plain": [
       "'irradiance_data, temp_data'"
      ]
     },
     "execution_count": 16,
     "metadata": {},
     "output_type": "execute_result"
    }
   ],
   "source": [
    "', '.join(sorted(list(set(itertools.chain.from_iterable([grouped_items[j] for j in grouped_items.keys() if 'wms' in j])))))"
   ]
  },
  {
   "cell_type": "code",
   "execution_count": 4,
   "id": "432c3d31",
   "metadata": {},
   "outputs": [],
   "source": [
    "dt_list = pd.date_range(start='2022-01-01', periods=10, freq='D')\n",
    "dt_list\n",
    "dates = []\n",
    "for i in range(5):\n",
    "    for j in dt_list:\n",
    "        dates.append(j)"
   ]
  },
  {
   "cell_type": "code",
   "execution_count": 5,
   "id": "39d655e0",
   "metadata": {},
   "outputs": [],
   "source": [
    "import random\n",
    "values = []\n",
    "\n",
    "for j in range(50):\n",
    "    values.append(random.randint(0,100))"
   ]
  },
  {
   "cell_type": "code",
   "execution_count": 6,
   "id": "afcd732f",
   "metadata": {},
   "outputs": [],
   "source": [
    "inverter = []\n",
    "\n",
    "for j in range(5):\n",
    "    for i in range(10):\n",
    "        inverter.append(f'Inv_0{j+1}')"
   ]
  },
  {
   "cell_type": "code",
   "execution_count": 8,
   "id": "54d517bc",
   "metadata": {},
   "outputs": [],
   "source": [
    "df = pd.DataFrame(columns=['Date', 'Power', 'Inverter'])\n",
    "df['Date'] = dates\n",
    "df['Power'] = values\n",
    "df['Inverter'] = inverter"
   ]
  },
  {
   "cell_type": "code",
   "execution_count": 9,
   "id": "e8f69b55",
   "metadata": {},
   "outputs": [
    {
     "data": {
      "text/plain": [
       "<matplotlib.legend.Legend at 0x16673de4910>"
      ]
     },
     "execution_count": 9,
     "metadata": {},
     "output_type": "execute_result"
    },
    {
     "data": {
      "image/png": "[encoded data removed]",
      "text/plain": [
       "<Figure size 1080x576 with 1 Axes>"
      ]
     },
     "metadata": {
      "needs_background": "light"
     },
     "output_type": "display_data"
    }
   ],
   "source": [
    "plt.figure(figsize=(15,8))\n",
    "sns.lineplot(x = 'Date', y = 'Power', data = df, hue = \"Inverter\")\n",
    "plt.legend(loc='upper right')"
   ]
  },
  {
   "cell_type": "code",
   "execution_count": null,
   "id": "4bfb3705",
   "metadata": {},
   "outputs": [],
   "source": []
  }
 ],
 "metadata": {
  "kernelspec": {
   "display_name": "Python 3 (ipykernel)",
   "language": "python",
   "name": "python3"
  },
  "language_info": {
   "codemirror_mode": {
    "name": "ipython",
    "version": 3
   },
   "file_extension": ".py",
   "mimetype": "text/x-python",
   "name": "python",
   "nbconvert_exporter": "python",
   "pygments_lexer": "ipython3",
   "version": "3.9.7"
  }
 },
 "nbformat": 4,
 "nbformat_minor": 5
}
